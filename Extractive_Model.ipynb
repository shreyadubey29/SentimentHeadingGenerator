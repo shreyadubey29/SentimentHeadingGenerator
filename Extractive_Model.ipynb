{
 "cells": [
  {
   "cell_type": "markdown",
   "metadata": {},
   "source": [
    "## Created By : Shreya Dubey\n",
    "## Extractive headline predictor"
   ]
  },
  {
   "cell_type": "code",
   "execution_count": 20,
   "metadata": {},
   "outputs": [],
   "source": [
    "from nltk.corpus import stopwords\n",
    "from nltk.cluster.util import cosine_distance\n",
    "import numpy as np\n",
    "import networkx as nx\n",
    "import nltk"
   ]
  },
  {
   "cell_type": "code",
   "execution_count": 21,
   "metadata": {},
   "outputs": [],
   "source": [
    "def read_article(article):\n",
    "    article = nltk.sent_tokenize(article)\n",
    "    sentences = []\n",
    "\n",
    "    for sentence in article:\n",
    "        #print(sentence)\n",
    "        sentences.append(sentence.replace(\"[^a-zA-Z]\", \" \").split(\" \"))\n",
    "    sentences.pop() \n",
    "    \n",
    "    return sentences"
   ]
  },
  {
   "cell_type": "code",
   "execution_count": 22,
   "metadata": {},
   "outputs": [],
   "source": [
    "def sentence_similarity(sent1, sent2, stopwords=None):\n",
    "    if stopwords is None:\n",
    "        stopwords = []\n",
    " \n",
    "    sent1 = [w.lower() for w in sent1]\n",
    "    sent2 = [w.lower() for w in sent2]\n",
    " \n",
    "    all_words = list(set(sent1 + sent2))\n",
    " \n",
    "    vector1 = [0] * len(all_words)\n",
    "    vector2 = [0] * len(all_words)\n",
    " \n",
    "    # build the vector for the first sentence\n",
    "    for w in sent1:\n",
    "        if w in stopwords:\n",
    "            continue\n",
    "        vector1[all_words.index(w)] += 1\n",
    " \n",
    "    # build the vector for the second sentence\n",
    "    for w in sent2:\n",
    "        if w in stopwords:\n",
    "            continue\n",
    "        vector2[all_words.index(w)] += 1\n",
    " \n",
    "    return 1 - cosine_distance(vector1, vector2)"
   ]
  },
  {
   "cell_type": "code",
   "execution_count": 23,
   "metadata": {},
   "outputs": [],
   "source": [
    "def build_similarity_matrix(sentences, stop_words):\n",
    "    # Create an empty similarity matrix\n",
    "    similarity_matrix = np.zeros((len(sentences), len(sentences)))\n",
    " \n",
    "    for idx1 in range(len(sentences)):\n",
    "        for idx2 in range(len(sentences)):\n",
    "            if idx1 == idx2: #ignore if both are same sentences\n",
    "                continue \n",
    "            similarity_matrix[idx1][idx2] = sentence_similarity(sentences[idx1], sentences[idx2], stop_words)\n",
    "\n",
    "    return similarity_matrix"
   ]
  },
  {
   "cell_type": "code",
   "execution_count": 24,
   "metadata": {},
   "outputs": [],
   "source": [
    "def generate_summary(name, top_n=1):\n",
    "    stop_words = stopwords.words('english')\n",
    "    summarize_text = []\n",
    "\n",
    "    # Step 1 - Read text anc split it\n",
    "    sentences =  read_article(name)\n",
    "\n",
    "    # Step 2 - Generate Similary Martix across sentences\n",
    "    sentence_similarity_martix = build_similarity_matrix(sentences, stop_words)\n",
    "\n",
    "    # Step 3 - Rank sentences in similarity martix\n",
    "    sentence_similarity_graph = nx.from_numpy_array(sentence_similarity_martix)\n",
    "    scores = nx.pagerank(sentence_similarity_graph)\n",
    "\n",
    "    # Step 4 - Sort the rank and pick top sentences\n",
    "    ranked_sentence = sorted(((scores[i],s) for i,s in enumerate(sentences)), reverse=True)    \n",
    "    #print(\"Indexes of top ranked_sentence order are \", ranked_sentence)    \n",
    "\n",
    "    for i in range(top_n):\n",
    "        if(len(ranked_sentence)!=0):\n",
    "            summarize_text.append(\" \".join(ranked_sentence[i][1]))\n",
    "\n",
    "    # Step 5 - Offcourse, output the summarize text\n",
    "    summary = \" \".join(summarize_text)\n",
    "    return summary\n",
    "    \n"
   ]
  },
  {
   "cell_type": "code",
   "execution_count": 36,
   "metadata": {},
   "outputs": [],
   "source": [
    "# Loading data\n",
    "import csv\n",
    "\n",
    "def load_data(filename):\n",
    "    with open(filename) as csvfile:\n",
    "        readCSV = csv.reader(csvfile, delimiter=',')\n",
    "        headlines = []\n",
    "        summaries = []\n",
    "        articles = []\n",
    "        for row in readCSV:\n",
    "            headline = row[0]\n",
    "            summary = row[1]\n",
    "            article = row[2]\n",
    "\n",
    "            headlines.append(headline)\n",
    "            summaries.append(summary)\n",
    "            articles.append(article)\n",
    "\n",
    "    headlines.remove(headlines[0])\n",
    "    summaries.remove(summaries[0])\n",
    "    articles.remove(articles[0])\n",
    "    \n",
    "    return headlines,articles,summaries\n",
    "\n",
    "# loading data from news_summary_2.csv\n",
    "headlines, articles, summaries = load_data('news_summary_2.csv')"
   ]
  },
  {
   "cell_type": "code",
   "execution_count": 37,
   "metadata": {},
   "outputs": [
    {
     "name": "stdout",
     "output_type": "stream",
     "text": [
      "4516\n",
      "4516\n"
     ]
    }
   ],
   "source": [
    "print(len(headlines))\n",
    "print(len(articles))"
   ]
  },
  {
   "cell_type": "code",
   "execution_count": 38,
   "metadata": {},
   "outputs": [],
   "source": [
    "clean_article = []\n",
    "clean_head = []\n",
    "\n",
    "for i in range(len(articles)):\n",
    "    if(articles[i]!=''and headlines[i]!=''):\n",
    "        clean_article.append(articles[i])\n",
    "        clean_head.append(headlines[i])\n"
   ]
  },
  {
   "cell_type": "code",
   "execution_count": 39,
   "metadata": {},
   "outputs": [
    {
     "name": "stdout",
     "output_type": "stream",
     "text": [
      "4397\n",
      "4397\n"
     ]
    }
   ],
   "source": [
    "print(len(clean_article))\n",
    "print(len(clean_head))"
   ]
  },
  {
   "cell_type": "code",
   "execution_count": 41,
   "metadata": {},
   "outputs": [],
   "source": [
    "import pandas as pd\n",
    "df=pd.DataFrame({'text':clean_article,'headline':clean_head})\n",
    "export_csv = df.to_csv ('cleaned_input.csv', index = None, header=True)"
   ]
  },
  {
   "cell_type": "code",
   "execution_count": 42,
   "metadata": {},
   "outputs": [],
   "source": [
    "# let's begin\n",
    "predicted = []\n",
    "original = []\n",
    "\n",
    "for i in range(10):\n",
    "    ans = generate_summary(clean_article[i],1)\n",
    "    if(ans!=''):\n",
    "        predicted.append(ans)\n",
    "        original.append(clean_head[i])\n",
    "        #print(\"Summarize Text: \\n\",ans)\n",
    "        #print('\\n')\n"
   ]
  },
  {
   "cell_type": "code",
   "execution_count": 43,
   "metadata": {},
   "outputs": [
    {
     "data": {
      "text/plain": [
       "25.19079685746352"
      ]
     },
     "execution_count": 43,
     "metadata": {},
     "output_type": "execute_result"
    }
   ],
   "source": [
    "#!pip install rouge\n",
    "from rouge import Rouge\n",
    "\n",
    "evaluator = Rouge()\n",
    "\n",
    "metric = []\n",
    "for i in range(len(predicted)):\n",
    "    metric.append(evaluator.get_scores(predicted[i],original[i]))\n",
    "\n",
    "avg_ro_1_r = 0\n",
    "for i in range(len(metric)):\n",
    "    avg_ro_1_r = avg_ro_1_r + metric[i][0]['rouge-1']['r']\n",
    "\n",
    "(avg_ro_1_r/len(metric))*100"
   ]
  },
  {
   "cell_type": "code",
   "execution_count": 64,
   "metadata": {},
   "outputs": [
    {
     "name": "stdout",
     "output_type": "stream",
     "text": [
      "44.44444444444444\n",
      "8.16326530612245\n"
     ]
    }
   ],
   "source": [
    "from nltk.translate.bleu_score import sentence_bleu\n",
    "reference = original[0]\n",
    "candidate = predicted[0]\n",
    "score = evaluator.get_scores(candidate,reference)\n",
    "print(score[0]['rouge-1']['r']*100)\n",
    "print(score[0]['rouge-1']['p']*100)\n",
    "#print(reference)\n",
    "#print(candidate)"
   ]
  },
  {
   "cell_type": "code",
   "execution_count": null,
   "metadata": {},
   "outputs": [],
   "source": []
  }
 ],
 "metadata": {
  "kernelspec": {
   "display_name": "Python 3",
   "language": "python",
   "name": "python3"
  },
  "language_info": {
   "codemirror_mode": {
    "name": "ipython",
    "version": 3
   },
   "file_extension": ".py",
   "mimetype": "text/x-python",
   "name": "python",
   "nbconvert_exporter": "python",
   "pygments_lexer": "ipython3",
   "version": "3.7.1"
  }
 },
 "nbformat": 4,
 "nbformat_minor": 2
}
