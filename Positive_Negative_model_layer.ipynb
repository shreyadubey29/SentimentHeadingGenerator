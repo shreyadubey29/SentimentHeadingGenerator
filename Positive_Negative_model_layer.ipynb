{
 "cells": [
  {
   "cell_type": "markdown",
   "metadata": {},
   "source": [
    "## Created By : Shreya Dubey\n",
    "## Sentiment Modification Model"
   ]
  },
  {
   "cell_type": "code",
   "execution_count": 1,
   "metadata": {
    "colab": {
     "base_uri": "https://localhost:8080/",
     "height": 79
    },
    "colab_type": "code",
    "id": "eg6RPBKpuRMH",
    "outputId": "53b51962-81c3-4717-c92d-9094a0328c10"
   },
   "outputs": [
    {
     "name": "stderr",
     "output_type": "stream",
     "text": [
      "Using TensorFlow backend.\n"
     ]
    },
    {
     "data": {
      "text/html": [
       "<p style=\"color: red;\">\n",
       "The default version of TensorFlow in Colab will soon switch to TensorFlow 2.x.<br>\n",
       "We recommend you <a href=\"https://www.tensorflow.org/guide/migrate\" target=\"_blank\">upgrade</a> now \n",
       "or ensure your notebook will continue to use TensorFlow 1.x via the <code>%tensorflow_version 1.x</code> magic:\n",
       "<a href=\"https://colab.research.google.com/notebooks/tensorflow_version.ipynb\" target=\"_blank\">more info</a>.</p>\n"
      ],
      "text/plain": [
       "<IPython.core.display.HTML object>"
      ]
     },
     "metadata": {
      "tags": []
     },
     "output_type": "display_data"
    }
   ],
   "source": [
    "from nltk.corpus import stopwords\n",
    "import nltk\n",
    "import numpy as np\n",
    "import pandas as pd \n",
    "import re\n",
    "from bs4 import BeautifulSoup\n",
    "from keras.preprocessing.text import Tokenizer \n",
    "from keras.preprocessing.sequence import pad_sequences\n",
    "from nltk.corpus import stopwords\n",
    "from tensorflow.keras.layers import Input, LSTM, Embedding, Dense, Concatenate, TimeDistributed, Bidirectional\n",
    "from tensorflow.keras.models import Model\n",
    "from tensorflow.keras.callbacks import EarlyStopping\n",
    "import warnings\n",
    "pd.set_option(\"display.max_colwidth\", 200)\n",
    "warnings.filterwarnings(\"ignore\")\n",
    "import csv"
   ]
  },
  {
   "cell_type": "code",
   "execution_count": 2,
   "metadata": {
    "colab": {
     "base_uri": "https://localhost:8080/",
     "height": 91,
     "resources": {
      "http://localhost:8080/nbextensions/google.colab/files.js": {
       "data": "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",
       "headers": [
        [
         "content-type",
         "application/javascript"
        ]
       ],
       "ok": true,
       "status": 200,
       "status_text": ""
      }
     }
    },
    "colab_type": "code",
    "id": "7DC8QmDqucQk",
    "outputId": "2fe77864-29aa-450d-9478-0bf148426227"
   },
   "outputs": [
    {
     "data": {
      "text/html": [
       "\n",
       "     <input type=\"file\" id=\"files-1fcff3ca-7e41-4e11-908f-82fa7c04c4ec\" name=\"files[]\" multiple disabled />\n",
       "     <output id=\"result-1fcff3ca-7e41-4e11-908f-82fa7c04c4ec\">\n",
       "      Upload widget is only available when the cell has been executed in the\n",
       "      current browser session. Please rerun this cell to enable.\n",
       "      </output>\n",
       "      <script src=\"/nbextensions/google.colab/files.js\"></script> "
      ],
      "text/plain": [
       "<IPython.core.display.HTML object>"
      ]
     },
     "metadata": {
      "tags": []
     },
     "output_type": "display_data"
    },
    {
     "name": "stdout",
     "output_type": "stream",
     "text": [
      "Saving classifier_data.csv to classifier_data.csv\n",
      "User uploaded file \"classifier_data.csv\" with length 7513446 bytes\n"
     ]
    }
   ],
   "source": [
    "from google.colab import files\n",
    "\n",
    "uploaded = files.upload()\n",
    "\n",
    "for fn in uploaded.keys():\n",
    "  print('User uploaded file \"{name}\" with length {length} bytes'.format(\n",
    "      name=fn, length=len(uploaded[fn])))"
   ]
  },
  {
   "cell_type": "code",
   "execution_count": 0,
   "metadata": {
    "colab": {},
    "colab_type": "code",
    "id": "s2WMATituhpX"
   },
   "outputs": [],
   "source": [
    "df = pd.read_csv('classifier_data.csv')\n",
    "max_text_len = 30\n",
    "\n",
    "def shorten_length(x,y):\n",
    "  x_new = []\n",
    "  y_new = []\n",
    "  for i in range(len(x)):\n",
    "    if(len(x[i].split())<=30):\n",
    "      x_new.append(x[i])\n",
    "      y_new.append(y[i])\n",
    "  return x_new,y_new\n",
    "\n",
    "x,y = shorten_length(df['text'],df['sentiments'])"
   ]
  },
  {
   "cell_type": "code",
   "execution_count": 0,
   "metadata": {
    "colab": {},
    "colab_type": "code",
    "id": "dhJj_Ij9utWd"
   },
   "outputs": [],
   "source": [
    "from sklearn.model_selection import train_test_split\n",
    "#train_data,test_data=train_test_split(df,test_size=0.1,shuffle=True)\n",
    "\n",
    "#x_tr = train_data['text']\n",
    "#x_val = test_data['text']\n",
    "#y_tr = train_data['sentiments']\n",
    "#y_val = test_data['sentiments']\n",
    "\n",
    "x_tr,x_val,y_tr,y_val=train_test_split(x,y,test_size=0.1,shuffle=True)"
   ]
  },
  {
   "cell_type": "code",
   "execution_count": 5,
   "metadata": {
    "colab": {
     "base_uri": "https://localhost:8080/",
     "height": 50
    },
    "colab_type": "code",
    "id": "FnIH9owXuxCO",
    "outputId": "7a8a1812-a304-4d74-9311-cbe513891edf"
   },
   "outputs": [
    {
     "name": "stdout",
     "output_type": "stream",
     "text": [
      "% of rare words in vocabulary: 37.20587218547625\n",
      "Total Coverage of rare words: 1.511136488086602\n"
     ]
    }
   ],
   "source": [
    "# Building tokenizer to convert word sequence into integer sequence\n",
    "\n",
    "from keras.preprocessing.text import Tokenizer \n",
    "from keras.preprocessing.sequence import pad_sequences\n",
    "\n",
    "#prepare a tokenizer for reviews on training data\n",
    "x_tokenizer = Tokenizer() \n",
    "x_tokenizer.fit_on_texts(list(x_tr))\n",
    "\n",
    "# Analysing the number of rare words in the vocabulary (rule: any word that appears 3 or leass times is rare)\n",
    "\n",
    "thresh=2\n",
    "\n",
    "cnt=0\n",
    "tot_cnt=0\n",
    "freq=0\n",
    "tot_freq=0\n",
    "\n",
    "for key,value in x_tokenizer.word_counts.items():\n",
    "    tot_cnt=tot_cnt+1\n",
    "    tot_freq=tot_freq+value\n",
    "    if(value<thresh):\n",
    "        cnt=cnt+1\n",
    "        freq=freq+value\n",
    "    \n",
    "print(\"% of rare words in vocabulary:\",(cnt/tot_cnt)*100)\n",
    "print(\"Total Coverage of rare words:\",(freq/tot_freq)*100)\n",
    "\n",
    "#prepare a tokenizer for articles on training data\n",
    "x_tokenizer = Tokenizer(num_words=tot_cnt-cnt) \n",
    "x_tokenizer.fit_on_texts(list(x_tr))\n",
    "\n",
    "#convert text sequences into integer sequences\n",
    "x_tr_seq    =   x_tokenizer.texts_to_sequences(x_tr) \n",
    "x_val_seq   =   x_tokenizer.texts_to_sequences(x_val)\n",
    "\n",
    "#padding zero upto maximum length\n",
    "x_tr    =   pad_sequences(x_tr_seq,  maxlen=max_text_len, padding='post')\n",
    "x_val   =   pad_sequences(x_val_seq, maxlen=max_text_len, padding='post')\n",
    "\n",
    "#size of vocabulary ( +1 for padding token)\n",
    "x_voc   =  x_tokenizer.num_words + 1"
   ]
  },
  {
   "cell_type": "code",
   "execution_count": 0,
   "metadata": {
    "colab": {},
    "colab_type": "code",
    "id": "mWrNlP28u4yH"
   },
   "outputs": [],
   "source": [
    "import tensorflow as tf\n",
    "class Attention(Model):\n",
    "    def __init__(self, units):\n",
    "        super(Attention, self).__init__()\n",
    "        self.W1 = Dense(units)\n",
    "        self.W2 = Dense(units)\n",
    "        self.V = Dense(1)\n",
    " \n",
    "    def call(self, features, hidden):\n",
    "        hidden_with_time_axis = tf.expand_dims(hidden, 1)\n",
    "        score = tf.nn.tanh(self.W1(features) + self.W2(hidden_with_time_axis))\n",
    "        attention_weights = tf.nn.softmax(self.V(score), axis=1)\n",
    "        context_vector = attention_weights * features\n",
    "        context_vector = tf.reduce_sum(context_vector, axis=1)\n",
    " \n",
    "        return context_vector, attention_weights"
   ]
  },
  {
   "cell_type": "code",
   "execution_count": 7,
   "metadata": {
    "colab": {
     "base_uri": "https://localhost:8080/",
     "height": 709
    },
    "colab_type": "code",
    "id": "fATITQHsu_LH",
    "outputId": "e9ee6f25-e6cc-4776-b9d9-7b93e1d0a490"
   },
   "outputs": [
    {
     "name": "stdout",
     "output_type": "stream",
     "text": [
      "WARNING:tensorflow:From /usr/local/lib/python3.6/dist-packages/tensorflow_core/python/keras/initializers.py:119: calling RandomUniform.__init__ (from tensorflow.python.ops.init_ops) with dtype is deprecated and will be removed in a future version.\n",
      "Instructions for updating:\n",
      "Call initializer instance with the dtype argument instead of passing it to the constructor\n",
      "WARNING:tensorflow:From /usr/local/lib/python3.6/dist-packages/tensorflow_core/python/ops/resource_variable_ops.py:1630: calling BaseResourceVariable.__init__ (from tensorflow.python.ops.resource_variable_ops) with constraint is deprecated and will be removed in a future version.\n",
      "Instructions for updating:\n",
      "If using Keras pass *_constraint arguments to layers.\n",
      "WARNING:tensorflow:From /usr/local/lib/python3.6/dist-packages/tensorflow_core/python/ops/init_ops.py:97: calling GlorotUniform.__init__ (from tensorflow.python.ops.init_ops) with dtype is deprecated and will be removed in a future version.\n",
      "Instructions for updating:\n",
      "Call initializer instance with the dtype argument instead of passing it to the constructor\n",
      "WARNING:tensorflow:From /usr/local/lib/python3.6/dist-packages/tensorflow_core/python/ops/init_ops.py:97: calling Zeros.__init__ (from tensorflow.python.ops.init_ops) with dtype is deprecated and will be removed in a future version.\n",
      "Instructions for updating:\n",
      "Call initializer instance with the dtype argument instead of passing it to the constructor\n",
      "Model: \"model\"\n",
      "__________________________________________________________________________________________________\n",
      "Layer (type)                    Output Shape         Param #     Connected to                     \n",
      "==================================================================================================\n",
      "input_1 (InputLayer)            [(None, 30)]         0                                            \n",
      "__________________________________________________________________________________________________\n",
      "embedding (Embedding)           (None, 30, 100)      2724800     input_1[0][0]                    \n",
      "__________________________________________________________________________________________________\n",
      "bidirectional (Bidirectional)   [(None, 30, 200), (N 160800      embedding[0][0]                  \n",
      "__________________________________________________________________________________________________\n",
      "bidirectional_1 (Bidirectional) [(None, 30, 200), (N 240800      bidirectional[0][0]              \n",
      "                                                                 bidirectional[0][1]              \n",
      "                                                                 bidirectional[0][2]              \n",
      "                                                                 bidirectional[0][3]              \n",
      "                                                                 bidirectional[0][4]              \n",
      "__________________________________________________________________________________________________\n",
      "concatenate (Concatenate)       (None, 200)          0           bidirectional_1[0][1]            \n",
      "                                                                 bidirectional_1[0][3]            \n",
      "__________________________________________________________________________________________________\n",
      "attention (Attention)           ((None, 200), (None, 40301       bidirectional_1[0][0]            \n",
      "__________________________________________________________________________________________________\n",
      "dense_3 (Dense)                 (None, 1)            201         attention[0][0]                  \n",
      "==================================================================================================\n",
      "Total params: 3,166,902\n",
      "Trainable params: 3,166,902\n",
      "Non-trainable params: 0\n",
      "__________________________________________________________________________________________________\n",
      "None\n"
     ]
    }
   ],
   "source": [
    "import os\n",
    "\n",
    "sequence_input = Input(shape=(max_text_len,))\n",
    "embed_seq = Embedding(x_voc, 100, input_length=max_text_len)(sequence_input)\n",
    "\n",
    "rnn_cell_size = 100\n",
    "\n",
    "lstm = Bidirectional(LSTM(rnn_cell_size,dropout=0.3,return_sequences=True,return_state=True,recurrent_activation='relu',recurrent_initializer='glorot_uniform'))(embed_seq)\n",
    "lstm, forward_h, forward_c, backward_h, backward_c = Bidirectional(LSTM(rnn_cell_size,dropout=0.2,return_sequences=True,return_state=True,recurrent_activation='relu',recurrent_initializer='glorot_uniform'))(lstm)\n",
    "state_h = Concatenate()([forward_h, backward_h])\n",
    "state_c = Concatenate()([forward_c, backward_c])\n",
    "\n",
    "attention = Attention(100)\n",
    "\n",
    "context_vector, attention_weights = attention(lstm, state_h)\n",
    " \n",
    "output = Dense(1, activation='sigmoid')(context_vector)\n",
    " \n",
    "#classifier_model = Model(inputs=sequence_input, outputs=[output,attention_weights])\n",
    "classifier_model = Model(inputs=sequence_input, outputs = output)\n",
    " \n",
    "# summarize layers\n",
    "print(classifier_model.summary())\n",
    "\n",
    "y_tr = list(y_tr)\n",
    "for i in range (len(y_tr)):\n",
    "    y_tr[i] = float(y_tr[i])"
   ]
  },
  {
   "cell_type": "code",
   "execution_count": 8,
   "metadata": {
    "colab": {
     "base_uri": "https://localhost:8080/",
     "height": 87
    },
    "colab_type": "code",
    "id": "g1LXCHI9vFGd",
    "outputId": "317872fe-7a6f-4edd-a087-eaeafbbc5eac"
   },
   "outputs": [
    {
     "name": "stdout",
     "output_type": "stream",
     "text": [
      "WARNING:tensorflow:From /usr/local/lib/python3.6/dist-packages/tensorflow_core/python/ops/nn_impl.py:183: where (from tensorflow.python.ops.array_ops) is deprecated and will be removed in a future version.\n",
      "Instructions for updating:\n",
      "Use tf.where in 2.0, which has the same broadcast rule as np.where\n"
     ]
    }
   ],
   "source": [
    "classifier_model.compile(optimizer='adam',loss='binary_crossentropy',metrics=['accuracy'])\n",
    " \n",
    "es = EarlyStopping(monitor='val_loss', min_delta=0, patience=1, verbose=0, mode='auto')"
   ]
  },
  {
   "cell_type": "code",
   "execution_count": 9,
   "metadata": {
    "colab": {
     "base_uri": "https://localhost:8080/",
     "height": 101
    },
    "colab_type": "code",
    "id": "avsULZrMvL8d",
    "outputId": "6dcea3ef-42d8-4b91-a13f-e15aee34b86b"
   },
   "outputs": [
    {
     "name": "stdout",
     "output_type": "stream",
     "text": [
      "Train on 31931 samples, validate on 13685 samples\n",
      "Epoch 1/10\n",
      "31931/31931 [==============================] - 26s 805us/sample - loss: 0.6397 - acc: 0.6728 - val_loss: 0.6134 - val_acc: 0.6756\n",
      "Epoch 2/10\n",
      "31931/31931 [==============================] - 23s 719us/sample - loss: 0.5633 - acc: 0.7076 - val_loss: 0.6181 - val_acc: 0.6730\n"
     ]
    }
   ],
   "source": [
    "classifier_history = classifier_model.fit(x_tr,y_tr,epochs=10,batch_size=200,validation_split=.3, verbose=1, callbacks=[es])"
   ]
  },
  {
   "cell_type": "code",
   "execution_count": 10,
   "metadata": {
    "colab": {
     "base_uri": "https://localhost:8080/",
     "height": 265
    },
    "colab_type": "code",
    "id": "cNud2CjjvREO",
    "outputId": "1c9411e9-e26d-4093-c60f-1483fa79665d"
   },
   "outputs": [
    {
     "data": {
      "image/png": "[encoded data removed]",
      "text/plain": [
       "<Figure size 432x288 with 1 Axes>"
      ]
     },
     "metadata": {
      "tags": []
     },
     "output_type": "display_data"
    }
   ],
   "source": [
    "from matplotlib import pyplot\n",
    "pyplot.plot(classifier_history.history['loss'], label='train')\n",
    "pyplot.plot(classifier_history.history['val_loss'], label='test')\n",
    "pyplot.legend()\n",
    "pyplot.show()"
   ]
  },
  {
   "cell_type": "code",
   "execution_count": 0,
   "metadata": {
    "colab": {},
    "colab_type": "code",
    "id": "Q2qiafsjvx3D"
   },
   "outputs": [],
   "source": [
    "classifier_model = Model(inputs=sequence_input, outputs=[output,attention_weights])\n",
    "# getting attention weights\n",
    "\n",
    "out = classifier_model.predict(x_tr)\n",
    "trained_att = out[1]"
   ]
  },
  {
   "cell_type": "code",
   "execution_count": 0,
   "metadata": {
    "colab": {},
    "colab_type": "code",
    "id": "XvAc_kNzv4O2"
   },
   "outputs": [],
   "source": [
    "a = (int)(np.sum(y_tr))\n",
    "b = (int)(len(y_tr)-np.sum(y_tr))"
   ]
  },
  {
   "cell_type": "code",
   "execution_count": 13,
   "metadata": {
    "colab": {
     "base_uri": "https://localhost:8080/",
     "height": 50
    },
    "colab_type": "code",
    "id": "RYqQwFUjwCcz",
    "outputId": "78c4960e-5f10-40b1-a286-1e4c8cb5ce02"
   },
   "outputs": [
    {
     "name": "stdout",
     "output_type": "stream",
     "text": [
      "shape of attention_weights =  (45616, 30, 1)\n",
      "shape of attention_weights =  (45616, 30)\n"
     ]
    }
   ],
   "source": [
    "print(\"shape of attention_weights = \", trained_att.shape)\n",
    "new_trained_att = np.reshape(trained_att,(trained_att.shape[0],trained_att.shape[1]))\n",
    "print(\"shape of attention_weights = \", new_trained_att.shape)\n",
    "\n",
    "for i in range(new_trained_att.shape[0]):\n",
    "    avg = np.mean(new_trained_att[i,:])\n",
    "    for j in range(new_trained_att.shape[1]):\n",
    "        if(new_trained_att[i,j]>=avg):\n",
    "            new_trained_att[i,j]=1\n",
    "        else:\n",
    "            new_trained_att[i,j]=0"
   ]
  },
  {
   "cell_type": "code",
   "execution_count": 0,
   "metadata": {
    "colab": {},
    "colab_type": "code",
    "id": "k_jxi8ljwGvY"
   },
   "outputs": [],
   "source": [
    "x_pos = np.empty((a,max_text_len))\n",
    "x_neg = np.empty((b,max_text_len))\n",
    "\n",
    "att_pos = np.empty((a,max_text_len))\n",
    "att_neg = np.empty((b,max_text_len))\n",
    "\n",
    "p,n = 0,0\n",
    "\n",
    "for i in range(len(y_tr)):\n",
    "    if(y_tr[i]==1):\n",
    "        x_pos[p,:] = x_tr[i,:]\n",
    "        att_pos[p,:] = new_trained_att[i,:]\n",
    "        p = p+1\n",
    "    elif(y_tr[i]==0):\n",
    "        x_neg[n,:] = x_tr[i,:]\n",
    "        att_neg[n,:] = new_trained_att[i,:]\n",
    "        n = n+1"
   ]
  },
  {
   "cell_type": "code",
   "execution_count": 0,
   "metadata": {
    "colab": {},
    "colab_type": "code",
    "id": "BqnMgsmywMT8"
   },
   "outputs": [],
   "source": [
    "context_attention = 1-att_pos\n",
    "context_attention_neg = 1-att_neg\n",
    "alpha = 60"
   ]
  },
  {
   "cell_type": "code",
   "execution_count": 0,
   "metadata": {
    "colab": {},
    "colab_type": "code",
    "id": "CcxAuiVqwP1Y"
   },
   "outputs": [],
   "source": [
    "att_pos = att_pos.astype('float32')\n",
    "context_attention = context_attention.astype('float32')\n",
    "att_neg = att_neg.astype('float32')\n",
    "context_attention_neg = context_attention_neg.astype('float32')"
   ]
  },
  {
   "cell_type": "code",
   "execution_count": 0,
   "metadata": {
    "colab": {},
    "colab_type": "code",
    "id": "-WYdC2fGwTW1"
   },
   "outputs": [],
   "source": [
    "class Memory(Model):\n",
    "    def __init__(self, e, alpha):\n",
    "        super(Memory, self).__init__()\n",
    "        self.M_pos = np.ones((e,alpha))\n",
    " \n",
    "    def call(self, att_pos, context_attention,encoder_embedding):\n",
    "        s_pos = tf.reduce_sum(encoder_embedding*tf.expand_dims(att_pos,axis=-1),1)\n",
    "        s_cont = tf.reduce_sum(encoder_embedding*tf.expand_dims(context_attention,axis=-1),1)\n",
    "        #w = softmax((s_pos.T)@self.M_pos)\n",
    "        w = tf.nn.softmax((s_pos@self.M_pos))\n",
    "        self.M_pos = self.M_pos + (tf.transpose(s_pos)@w)\n",
    "        #u = softmax((s_cont.T)@self.M_pos)\n",
    "        u = tf.nn.softmax(s_cont@self.M_pos)\n",
    "        #print(\"s_pos = \",s_pos.shape)\n",
    "        #print(\"s_cont = \",s_cont.shape)\n",
    "        #print(\"w = \",w.shape)\n",
    "        #print(\"u = \",u.shape)\n",
    "        #print(\"M_pos = \",self.M_pos.shape)\n",
    "        m_bar = u@tf.transpose(self.M_pos)\n",
    "        #m_bar = tf.reduce_sum((u@self.M_pos),1)\n",
    "        \n",
    "        return m_bar"
   ]
  },
  {
   "cell_type": "code",
   "execution_count": 0,
   "metadata": {
    "colab": {},
    "colab_type": "code",
    "id": "Uk_5ufp1wXrJ"
   },
   "outputs": [],
   "source": [
    "hidden_dim = 60\n",
    "embedding_dim = 128"
   ]
  },
  {
   "cell_type": "code",
   "execution_count": 19,
   "metadata": {
    "colab": {
     "base_uri": "https://localhost:8080/",
     "height": 386
    },
    "colab_type": "code",
    "id": "HwqcrLajwfg2",
    "outputId": "5a74ef72-3497-4e08-8740-5d3b3026ce99"
   },
   "outputs": [
    {
     "name": "stdout",
     "output_type": "stream",
     "text": [
      "Model: \"model_2\"\n",
      "__________________________________________________________________________________________________\n",
      "Layer (type)                    Output Shape         Param #     Connected to                     \n",
      "==================================================================================================\n",
      "input_2 (InputLayer)            [(None, 30)]         0                                            \n",
      "__________________________________________________________________________________________________\n",
      "embedding_1 (Embedding)         (None, 30, 128)      3487744     input_2[0][0]                    \n",
      "__________________________________________________________________________________________________\n",
      "embedding_2 (Embedding)         (None, 30, 128)      3487744     input_2[0][0]                    \n",
      "__________________________________________________________________________________________________\n",
      "lstm_2 (LSTM)                   [(None, 60), (None,  45360       embedding_1[0][0]                \n",
      "__________________________________________________________________________________________________\n",
      "lstm_3 (LSTM)                   [(None, 30, 60), (No 45360       embedding_2[0][0]                \n",
      "                                                                 lstm_2[0][1]                     \n",
      "                                                                 lstm_2[0][2]                     \n",
      "__________________________________________________________________________________________________\n",
      "dense_4 (Dense)                 (None, 30, 27248)    1662128     lstm_3[0][0]                     \n",
      "==================================================================================================\n",
      "Total params: 8,728,336\n",
      "Trainable params: 8,728,336\n",
      "Non-trainable params: 0\n",
      "__________________________________________________________________________________________________\n"
     ]
    }
   ],
   "source": [
    "encoder_inputs = Input(shape=(max_text_len, ), dtype='int32',)\n",
    "encoder_embedding = Embedding(x_voc, embedding_dim,trainable=True)(encoder_inputs)\n",
    "encoder_LSTM = LSTM(hidden_dim, return_state=True)\n",
    "encoder_outputs, state_h, state_c = encoder_LSTM(encoder_embedding)\n",
    "#print(encoder_embedding.shape)\n",
    "\n",
    "units = int(int(encoder_LSTM.trainable_weights[0].shape[1])/4)\n",
    "#print(\"No units: \", units)\n",
    "W = encoder_LSTM.get_weights()[0]\n",
    "W_c = W[:, units * 2: units * 3]\n",
    "#print(W_c.shape)\n",
    "#print(state_c.shape)\n",
    "\n",
    "pos_sentiment_memory = Memory(embedding_dim,alpha)\n",
    "m_bar = pos_sentiment_memory(att_pos,context_attention,encoder_embedding)\n",
    "\n",
    "state_c1 = state_c + m_bar@W_c\n",
    "\n",
    "decoder_embedding = Embedding(x_voc, embedding_dim,trainable=True)(encoder_inputs)\n",
    "decoder_LSTM = LSTM(hidden_dim, return_state=True, return_sequences=True)\n",
    "decoder_outputs, _, _ = decoder_LSTM(decoder_embedding, initial_state=[state_h, state_c])\n",
    "\n",
    "dense_layer = Dense(x_voc, activation='softmax')\n",
    "outputs = dense_layer(decoder_outputs)\n",
    "final_model = Model(encoder_inputs, outputs)\n",
    "\n",
    "final_model.summary()"
   ]
  },
  {
   "cell_type": "code",
   "execution_count": 0,
   "metadata": {
    "colab": {},
    "colab_type": "code",
    "id": "RxQp9WtUwjxN"
   },
   "outputs": [],
   "source": [
    "final_model.compile(optimizer='adam', loss='sparse_categorical_crossentropy')"
   ]
  },
  {
   "cell_type": "code",
   "execution_count": 37,
   "metadata": {
    "colab": {
     "base_uri": "https://localhost:8080/",
     "height": 1000
    },
    "colab_type": "code",
    "id": "3pX7chZJwpGR",
    "outputId": "990db901-e521-4de8-ec91-acf204c37e3a"
   },
   "outputs": [
    {
     "name": "stdout",
     "output_type": "stream",
     "text": [
      "Train on 14884 samples\n",
      "Epoch 1/100\n",
      "14884/14884 [==============================] - 16s 1ms/sample - loss: 3.9725\n",
      "Epoch 2/100\n",
      "14884/14884 [==============================] - 17s 1ms/sample - loss: 3.9461\n",
      "Epoch 3/100\n",
      "14884/14884 [==============================] - 17s 1ms/sample - loss: 3.9221\n",
      "Epoch 4/100\n",
      "14884/14884 [==============================] - 16s 1ms/sample - loss: 3.8996\n",
      "Epoch 5/100\n",
      "14884/14884 [==============================] - 16s 1ms/sample - loss: 3.8758\n",
      "Epoch 6/100\n",
      "14884/14884 [==============================] - 17s 1ms/sample - loss: 3.8522\n",
      "Epoch 7/100\n",
      "14884/14884 [==============================] - 17s 1ms/sample - loss: 3.8297\n",
      "Epoch 8/100\n",
      "14884/14884 [==============================] - 17s 1ms/sample - loss: 3.8096\n",
      "Epoch 9/100\n",
      "14884/14884 [==============================] - 17s 1ms/sample - loss: 3.7886\n",
      "Epoch 10/100\n",
      "14884/14884 [==============================] - 16s 1ms/sample - loss: 3.7647\n",
      "Epoch 11/100\n",
      "14884/14884 [==============================] - 16s 1ms/sample - loss: 3.7436\n",
      "Epoch 12/100\n",
      "14884/14884 [==============================] - 16s 1ms/sample - loss: 3.7237\n",
      "Epoch 13/100\n",
      "14884/14884 [==============================] - 16s 1ms/sample - loss: 3.7041\n",
      "Epoch 14/100\n",
      "14884/14884 [==============================] - 16s 1ms/sample - loss: 3.6843\n",
      "Epoch 15/100\n",
      "14884/14884 [==============================] - 16s 1ms/sample - loss: 3.6651\n",
      "Epoch 16/100\n",
      "14884/14884 [==============================] - 16s 1ms/sample - loss: 3.6467\n",
      "Epoch 17/100\n",
      "14884/14884 [==============================] - 16s 1ms/sample - loss: 3.6299\n",
      "Epoch 18/100\n",
      "14884/14884 [==============================] - 16s 1ms/sample - loss: 3.6113\n",
      "Epoch 19/100\n",
      "14884/14884 [==============================] - 16s 1ms/sample - loss: 3.5932\n",
      "Epoch 20/100\n",
      "14884/14884 [==============================] - 16s 1ms/sample - loss: 3.5754\n",
      "Epoch 21/100\n",
      "14884/14884 [==============================] - 16s 1ms/sample - loss: 3.5584\n",
      "Epoch 22/100\n",
      "14884/14884 [==============================] - 17s 1ms/sample - loss: 3.5423\n",
      "Epoch 23/100\n",
      "14884/14884 [==============================] - 16s 1ms/sample - loss: 3.5284\n",
      "Epoch 24/100\n",
      "14884/14884 [==============================] - 16s 1ms/sample - loss: 3.5116\n",
      "Epoch 25/100\n",
      "14884/14884 [==============================] - 16s 1ms/sample - loss: 3.4967\n",
      "Epoch 26/100\n",
      "14884/14884 [==============================] - 16s 1ms/sample - loss: 3.4831\n",
      "Epoch 27/100\n",
      "14884/14884 [==============================] - 16s 1ms/sample - loss: 3.4670\n",
      "Epoch 28/100\n",
      "14884/14884 [==============================] - 16s 1ms/sample - loss: 3.4516\n",
      "Epoch 29/100\n",
      "14884/14884 [==============================] - 16s 1ms/sample - loss: 3.4372\n",
      "Epoch 30/100\n",
      "14884/14884 [==============================] - 16s 1ms/sample - loss: 3.4237\n",
      "Epoch 31/100\n",
      "14884/14884 [==============================] - 16s 1ms/sample - loss: 3.4112\n",
      "Epoch 32/100\n",
      "14884/14884 [==============================] - 16s 1ms/sample - loss: 3.3985\n",
      "Epoch 33/100\n",
      "14884/14884 [==============================] - 16s 1ms/sample - loss: 3.3838\n",
      "Epoch 34/100\n",
      "14884/14884 [==============================] - 16s 1ms/sample - loss: 3.3715\n",
      "Epoch 35/100\n",
      "14884/14884 [==============================] - 16s 1ms/sample - loss: 3.3593\n",
      "Epoch 36/100\n",
      "14884/14884 [==============================] - 16s 1ms/sample - loss: 3.3485\n",
      "Epoch 37/100\n",
      "14884/14884 [==============================] - 16s 1ms/sample - loss: 3.3359\n",
      "Epoch 38/100\n",
      "14884/14884 [==============================] - 16s 1ms/sample - loss: 3.3232\n",
      "Epoch 39/100\n",
      "14884/14884 [==============================] - 16s 1ms/sample - loss: 3.3119\n",
      "Epoch 40/100\n",
      "14884/14884 [==============================] - 16s 1ms/sample - loss: 3.3021\n",
      "Epoch 41/100\n",
      "14884/14884 [==============================] - 17s 1ms/sample - loss: 3.2893\n",
      "Epoch 42/100\n",
      "14884/14884 [==============================] - 16s 1ms/sample - loss: 3.2783\n",
      "Epoch 43/100\n",
      "14884/14884 [==============================] - 16s 1ms/sample - loss: 3.2670\n",
      "Epoch 44/100\n",
      "14884/14884 [==============================] - 16s 1ms/sample - loss: 3.2566\n",
      "Epoch 45/100\n",
      "14884/14884 [==============================] - 16s 1ms/sample - loss: 3.2451\n",
      "Epoch 46/100\n",
      "14884/14884 [==============================] - 16s 1ms/sample - loss: 3.2355\n",
      "Epoch 47/100\n",
      "14884/14884 [==============================] - 16s 1ms/sample - loss: 3.2275\n",
      "Epoch 48/100\n",
      "14884/14884 [==============================] - 16s 1ms/sample - loss: 3.2201\n",
      "Epoch 49/100\n",
      "14884/14884 [==============================] - 16s 1ms/sample - loss: 3.2082\n",
      "Epoch 50/100\n",
      "14884/14884 [==============================] - 16s 1ms/sample - loss: 3.1985\n",
      "Epoch 51/100\n",
      "14884/14884 [==============================] - 16s 1ms/sample - loss: 3.1917\n",
      "Epoch 52/100\n",
      "14884/14884 [==============================] - 16s 1ms/sample - loss: 3.1828\n",
      "Epoch 53/100\n",
      "14884/14884 [==============================] - 16s 1ms/sample - loss: 3.1728\n",
      "Epoch 54/100\n",
      "14884/14884 [==============================] - 16s 1ms/sample - loss: 3.1635\n",
      "Epoch 55/100\n",
      "14884/14884 [==============================] - 16s 1ms/sample - loss: 3.1557\n",
      "Epoch 56/100\n",
      "14884/14884 [==============================] - 16s 1ms/sample - loss: 3.1457\n",
      "Epoch 57/100\n",
      "14884/14884 [==============================] - 16s 1ms/sample - loss: 3.1377\n",
      "Epoch 58/100\n",
      "14884/14884 [==============================] - 16s 1ms/sample - loss: 3.1300\n",
      "Epoch 59/100\n",
      "14884/14884 [==============================] - 16s 1ms/sample - loss: 3.1220\n",
      "Epoch 60/100\n",
      "14884/14884 [==============================] - 16s 1ms/sample - loss: 3.1142\n",
      "Epoch 61/100\n",
      "14884/14884 [==============================] - 16s 1ms/sample - loss: 3.1048\n",
      "Epoch 62/100\n",
      "14884/14884 [==============================] - 16s 1ms/sample - loss: 3.0964\n",
      "Epoch 63/100\n",
      "14884/14884 [==============================] - 16s 1ms/sample - loss: 3.0888\n",
      "Epoch 64/100\n",
      "14884/14884 [==============================] - 16s 1ms/sample - loss: 3.0811\n",
      "Epoch 65/100\n",
      "14884/14884 [==============================] - 16s 1ms/sample - loss: 3.0747\n",
      "Epoch 66/100\n",
      "14884/14884 [==============================] - 16s 1ms/sample - loss: 3.0662\n",
      "Epoch 67/100\n",
      "14884/14884 [==============================] - 16s 1ms/sample - loss: 3.0610\n",
      "Epoch 68/100\n",
      "14884/14884 [==============================] - 16s 1ms/sample - loss: 3.0544\n",
      "Epoch 69/100\n",
      "14884/14884 [==============================] - 16s 1ms/sample - loss: 3.0459\n",
      "Epoch 70/100\n",
      "14884/14884 [==============================] - 16s 1ms/sample - loss: 3.0401\n",
      "Epoch 71/100\n",
      "14884/14884 [==============================] - 16s 1ms/sample - loss: 3.0316\n",
      "Epoch 72/100\n",
      "14884/14884 [==============================] - 16s 1ms/sample - loss: 3.0253\n",
      "Epoch 73/100\n",
      "14884/14884 [==============================] - 16s 1ms/sample - loss: 3.0187\n",
      "Epoch 74/100\n",
      "14884/14884 [==============================] - 16s 1ms/sample - loss: 3.0138\n",
      "Epoch 75/100\n",
      "14884/14884 [==============================] - 16s 1ms/sample - loss: 3.0068\n",
      "Epoch 76/100\n",
      "14884/14884 [==============================] - 16s 1ms/sample - loss: 2.9990\n",
      "Epoch 77/100\n",
      "14884/14884 [==============================] - 16s 1ms/sample - loss: 2.9929\n",
      "Epoch 78/100\n",
      "14884/14884 [==============================] - 16s 1ms/sample - loss: 2.9865\n",
      "Epoch 79/100\n",
      "14884/14884 [==============================] - 16s 1ms/sample - loss: 2.9814\n",
      "Epoch 80/100\n",
      "14884/14884 [==============================] - 16s 1ms/sample - loss: 2.9732\n",
      "Epoch 81/100\n",
      "14884/14884 [==============================] - 16s 1ms/sample - loss: 2.9689\n",
      "Epoch 82/100\n",
      "14884/14884 [==============================] - 16s 1ms/sample - loss: 2.9611\n",
      "Epoch 83/100\n",
      "14884/14884 [==============================] - 16s 1ms/sample - loss: 2.9552\n",
      "Epoch 84/100\n",
      "14884/14884 [==============================] - 16s 1ms/sample - loss: 2.9492\n",
      "Epoch 85/100\n",
      "14884/14884 [==============================] - 16s 1ms/sample - loss: 2.9417\n",
      "Epoch 86/100\n",
      "14884/14884 [==============================] - 16s 1ms/sample - loss: 2.9382\n",
      "Epoch 87/100\n",
      "14884/14884 [==============================] - 16s 1ms/sample - loss: 2.9336\n",
      "Epoch 88/100\n",
      "14884/14884 [==============================] - 16s 1ms/sample - loss: 2.9262\n",
      "Epoch 89/100\n",
      "14884/14884 [==============================] - 16s 1ms/sample - loss: 2.9229\n",
      "Epoch 90/100\n",
      "14884/14884 [==============================] - 16s 1ms/sample - loss: 2.9153\n",
      "Epoch 91/100\n",
      "14884/14884 [==============================] - 16s 1ms/sample - loss: 2.9091\n",
      "Epoch 92/100\n",
      "14884/14884 [==============================] - 16s 1ms/sample - loss: 2.9055\n",
      "Epoch 93/100\n",
      "14884/14884 [==============================] - 16s 1ms/sample - loss: 2.9022\n",
      "Epoch 94/100\n",
      "14884/14884 [==============================] - 16s 1ms/sample - loss: 2.8932\n",
      "Epoch 95/100\n",
      "14884/14884 [==============================] - 16s 1ms/sample - loss: 2.8870\n",
      "Epoch 96/100\n",
      "14884/14884 [==============================] - 16s 1ms/sample - loss: 2.8818\n",
      "Epoch 97/100\n",
      "14884/14884 [==============================] - 16s 1ms/sample - loss: 2.8768\n",
      "Epoch 98/100\n",
      "14884/14884 [==============================] - 16s 1ms/sample - loss: 2.8699\n",
      "Epoch 99/100\n",
      "14884/14884 [==============================] - 16s 1ms/sample - loss: 2.8645\n",
      "Epoch 100/100\n",
      "14884/14884 [==============================] - 16s 1ms/sample - loss: 2.8617\n"
     ]
    }
   ],
   "source": [
    "final_history = final_model.fit((x_pos*context_attention),x_pos, epochs=100 , batch_size=128)"
   ]
  },
  {
   "cell_type": "code",
   "execution_count": 38,
   "metadata": {
    "colab": {
     "base_uri": "https://localhost:8080/",
     "height": 265
    },
    "colab_type": "code",
    "id": "TkA5YiYzws9M",
    "outputId": "d8265493-7648-4ba7-f116-16a3d1609ec3"
   },
   "outputs": [
    {
     "data": {
      "image/png": "[encoded data removed]",
      "text/plain": [
       "<Figure size 432x288 with 1 Axes>"
      ]
     },
     "metadata": {
      "tags": []
     },
     "output_type": "display_data"
    }
   ],
   "source": [
    "from matplotlib import pyplot\n",
    "pyplot.plot(final_history.history['loss'], label='train')\n",
    "pyplot.legend()\n",
    "pyplot.show()"
   ]
  },
  {
   "cell_type": "code",
   "execution_count": 0,
   "metadata": {
    "colab": {},
    "colab_type": "code",
    "id": "05You_hUwy9N"
   },
   "outputs": [],
   "source": [
    "!pip install -U -q PyDrive\n",
    "from pydrive.auth import GoogleAuth\n",
    "from pydrive.drive import GoogleDrive \n",
    "from google.colab import auth \n",
    "from oauth2client.client import GoogleCredentials"
   ]
  },
  {
   "cell_type": "code",
   "execution_count": 0,
   "metadata": {
    "colab": {},
    "colab_type": "code",
    "id": "5DvPaV4Vw5UO"
   },
   "outputs": [],
   "source": [
    "auth.authenticate_user()\n",
    "gauth = GoogleAuth()\n",
    "gauth.credentials = GoogleCredentials.get_application_default()                       \n",
    "drive = GoogleDrive(gauth)"
   ]
  },
  {
   "cell_type": "code",
   "execution_count": 0,
   "metadata": {
    "colab": {},
    "colab_type": "code",
    "id": "PohQlKpxw8O4"
   },
   "outputs": [],
   "source": [
    "final_model.save('Positive_model.h5')\n",
    "model_file = drive.CreateFile({'title' : 'Positive_model.h5'})                       \n",
    "model_file.SetContentFile('Positive_model.h5')                       \n",
    "model_file.Upload()"
   ]
  },
  {
   "cell_type": "code",
   "execution_count": 45,
   "metadata": {
    "colab": {
     "base_uri": "https://localhost:8080/",
     "height": 50
    },
    "colab_type": "code",
    "id": "tXqMgStaw_bE",
    "outputId": "22c7ae4b-f23b-4590-a229-f987a5ba59b9"
   },
   "outputs": [
    {
     "name": "stdout",
     "output_type": "stream",
     "text": [
      "[nltk_data] Downloading package vader_lexicon to /root/nltk_data...\n",
      "[nltk_data]   Package vader_lexicon is already up-to-date!\n"
     ]
    }
   ],
   "source": [
    "nltk.download('vader_lexicon')\n",
    "from nltk.sentiment.vader import SentimentIntensityAnalyzer\n",
    "\n",
    "def getText(x):\n",
    "  sid = SentimentIntensityAnalyzer()\n",
    "  sentence = []\n",
    "  for j in (x):\n",
    "      if(j!=0):\n",
    "          sentence.append(x_tokenizer.index_word[j])\n",
    "  sent = ' '.join(sentence)\n",
    "  return sent\n",
    "  #print(sent)\n",
    "  #print(\"Sentiment = \",sid.polarity_scores(sent))"
   ]
  },
  {
   "cell_type": "code",
   "execution_count": 0,
   "metadata": {
    "colab": {},
    "colab_type": "code",
    "id": "DGJ1YAulxFkF"
   },
   "outputs": [],
   "source": [
    "def changeInput(x):\n",
    "  x_1 = []\n",
    "  x_1.append(x)\n",
    "  sample = x_tokenizer.texts_to_sequences(x_1)\n",
    "  sample_1    =   pad_sequences(sample,  maxlen=max_text_len, padding='post')\n",
    "  return sample_1"
   ]
  },
  {
   "cell_type": "code",
   "execution_count": 0,
   "metadata": {
    "colab": {},
    "colab_type": "code",
    "id": "t96SEtCrxMBN"
   },
   "outputs": [],
   "source": [
    "def getSentence(x):\n",
    "  sid = SentimentIntensityAnalyzer()\n",
    "\n",
    "  ans = final_model.predict(x)\n",
    "  ans = np.reshape(ans,(ans.shape[1],ans.shape[2]))\n",
    "  b = []\n",
    "\n",
    "  for i in range(10):\n",
    "      b.append(np.argmax(ans[i,:]))\n",
    "  \n",
    "  predicted = []\n",
    "  for j in (b):\n",
    "      if(j!=0):\n",
    "          predicted.append(x_tokenizer.index_word[j])\n",
    "  sent = ' '.join(predicted)\n",
    "  return sent\n",
    "  #print(sent)\n",
    "  #print(\"Sentiment = \",sid.polarity_scores(sent))"
   ]
  },
  {
   "cell_type": "code",
   "execution_count": 33,
   "metadata": {
    "colab": {
     "base_uri": "https://localhost:8080/",
     "height": 91,
     "resources": {
      "http://localhost:8080/nbextensions/google.colab/files.js": {
       "data": "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",
       "headers": [
        [
         "content-type",
         "application/javascript"
        ]
       ],
       "ok": true,
       "status": 200,
       "status_text": ""
      }
     }
    },
    "colab_type": "code",
    "id": "hw-tmLKHxSey",
    "outputId": "7335d8b2-ca72-4673-9f5a-ef48876be284"
   },
   "outputs": [
    {
     "data": {
      "text/html": [
       "\n",
       "     <input type=\"file\" id=\"files-d84f1f2d-76d8-4c36-a6af-c270ffa142a6\" name=\"files[]\" multiple disabled />\n",
       "     <output id=\"result-d84f1f2d-76d8-4c36-a6af-c270ffa142a6\">\n",
       "      Upload widget is only available when the cell has been executed in the\n",
       "      current browser session. Please rerun this cell to enable.\n",
       "      </output>\n",
       "      <script src=\"/nbextensions/google.colab/files.js\"></script> "
      ],
      "text/plain": [
       "<IPython.core.display.HTML object>"
      ]
     },
     "metadata": {
      "tags": []
     },
     "output_type": "display_data"
    },
    {
     "name": "stdout",
     "output_type": "stream",
     "text": [
      "Saving abstract_predicted_data.csv to abstract_predicted_data.csv\n",
      "User uploaded file \"abstract_predicted_data.csv\" with length 33470 bytes\n"
     ]
    }
   ],
   "source": [
    "from google.colab import files\n",
    "\n",
    "uploaded = files.upload()\n",
    "\n",
    "for fn in uploaded.keys():\n",
    "  print('User uploaded file \"{name}\" with length {length} bytes'.format(\n",
    "      name=fn, length=len(uploaded[fn])))"
   ]
  },
  {
   "cell_type": "code",
   "execution_count": 0,
   "metadata": {
    "colab": {},
    "colab_type": "code",
    "id": "a5H2yeYixhEt"
   },
   "outputs": [],
   "source": [
    "abs_data = pd.read_csv('abstract_predicted_data.csv')\n",
    "\n",
    "x = abs_data['abs_predicted']\n",
    "x_new = []\n",
    "\n",
    "for i in x:\n",
    "  x_new.append(changeInput(i))"
   ]
  },
  {
   "cell_type": "code",
   "execution_count": 0,
   "metadata": {
    "colab": {},
    "colab_type": "code",
    "id": "zncRb8f809Q7"
   },
   "outputs": [],
   "source": [
    "positive_in = []\n",
    "positive_out = []\n",
    "\n",
    "for i in range(len(x_new)):\n",
    "  positive_in.append(getText(x_new[i][0]))\n",
    "  positive_out.append(getSentence(x_new[i:i+1][0]))\n",
    "  #print(\"Original :\", getText(x_new[i][0]))\n",
    "  #print(\"Predicted :\", getSentence(x_new[i:i+1][0]))\n",
    "  #print('\\n')"
   ]
  },
  {
   "cell_type": "code",
   "execution_count": 0,
   "metadata": {
    "colab": {},
    "colab_type": "code",
    "id": "1zmdjTSU1At5"
   },
   "outputs": [],
   "source": [
    "df_pos = pd.DataFrame({'original':positive_in,'pos_predicted':positive_out})\n",
    "export_csv = df_pos.to_csv ('Positive_model_output.csv', index = None, header=True)"
   ]
  },
  {
   "cell_type": "code",
   "execution_count": 66,
   "metadata": {
    "colab": {
     "base_uri": "https://localhost:8080/",
     "height": 91,
     "resources": {
      "http://localhost:8080/nbextensions/google.colab/files.js": {
       "data": "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",
       "headers": [
        [
         "content-type",
         "application/javascript"
        ]
       ],
       "ok": true,
       "status": 200,
       "status_text": ""
      }
     }
    },
    "colab_type": "code",
    "id": "uhII5AyX9i62",
    "outputId": "b49f583d-a73f-4479-f781-abb625658673"
   },
   "outputs": [
    {
     "data": {
      "text/html": [
       "\n",
       "     <input type=\"file\" id=\"files-0d41c6fe-1d75-46b2-a3f3-3beb515d1654\" name=\"files[]\" multiple disabled />\n",
       "     <output id=\"result-0d41c6fe-1d75-46b2-a3f3-3beb515d1654\">\n",
       "      Upload widget is only available when the cell has been executed in the\n",
       "      current browser session. Please rerun this cell to enable.\n",
       "      </output>\n",
       "      <script src=\"/nbextensions/google.colab/files.js\"></script> "
      ],
      "text/plain": [
       "<IPython.core.display.HTML object>"
      ]
     },
     "metadata": {
      "tags": []
     },
     "output_type": "display_data"
    },
    {
     "name": "stdout",
     "output_type": "stream",
     "text": [
      "Saving extract_predicted_data.csv to extract_predicted_data (1).csv\n",
      "User uploaded file \"extract_predicted_data.csv\" with length 1416012 bytes\n"
     ]
    }
   ],
   "source": [
    "from google.colab import files\n",
    "\n",
    "uploaded = files.upload()\n",
    "\n",
    "for fn in uploaded.keys():\n",
    "  print('User uploaded file \"{name}\" with length {length} bytes'.format(\n",
    "      name=fn, length=len(uploaded[fn])))"
   ]
  },
  {
   "cell_type": "code",
   "execution_count": 0,
   "metadata": {
    "colab": {},
    "colab_type": "code",
    "id": "u8AWhC1z-ZNg"
   },
   "outputs": [],
   "source": [
    "ex_data = pd.read_csv('extract_predicted_data (1).csv')\n",
    "\n",
    "x = ex_data['ex_predicted']\n",
    "x_new = []\n",
    "x_hat = []\n",
    "\n",
    "for i in x:\n",
    "  if(len(i.split())<=30):\n",
    "    x_hat.append(i)\n",
    "\n",
    "for i in x_hat:\n",
    "  x_new.append(changeInput(i))"
   ]
  },
  {
   "cell_type": "code",
   "execution_count": 70,
   "metadata": {
    "colab": {
     "base_uri": "https://localhost:8080/",
     "height": 34
    },
    "colab_type": "code",
    "id": "9XgH1ZA6AZcF",
    "outputId": "2b9bbc45-f039-4048-db93-a2002ba4e684"
   },
   "outputs": [
    {
     "data": {
      "text/plain": [
       "'Air India spokesperson, Dhananjay Kumar, confirmed the incident and said that taking safety as priority, the pilot took necessary precautions before taking off the flight.'"
      ]
     },
     "execution_count": 70,
     "metadata": {
      "tags": []
     },
     "output_type": "execute_result"
    }
   ],
   "source": [
    "x[100]"
   ]
  },
  {
   "cell_type": "code",
   "execution_count": 0,
   "metadata": {
    "colab": {},
    "colab_type": "code",
    "id": "UHG_NfbW_n2l"
   },
   "outputs": [],
   "source": [
    "positive_in = []\n",
    "positive_out = []\n",
    "\n",
    "for i in range(len(x_new)):\n",
    "  positive_in.append(getText(x_new[i][0]))\n",
    "  positive_out.append(getSentence(x_new[i:i+1][0]))"
   ]
  },
  {
   "cell_type": "code",
   "execution_count": 0,
   "metadata": {
    "colab": {},
    "colab_type": "code",
    "id": "60ETGh5s_qP6"
   },
   "outputs": [],
   "source": [
    "df_pos = pd.DataFrame({'original':positive_in,'pos_predicted':positive_out})\n",
    "export_csv = df_pos.to_csv ('Positive_model_output_ex.csv', index = None, header=True)"
   ]
  },
  {
   "cell_type": "code",
   "execution_count": 73,
   "metadata": {
    "colab": {
     "base_uri": "https://localhost:8080/",
     "height": 50
    },
    "colab_type": "code",
    "id": "NMqaBzxuAFLp",
    "outputId": "132b46c4-33de-488f-f4b6-38cb48b07299"
   },
   "outputs": [
    {
     "name": "stdout",
     "output_type": "stream",
     "text": [
      "metro officials have finally and said that hindi will be removed from all stations\n",
      "that users have finally and said that hindi will be\n"
     ]
    }
   ],
   "source": [
    "print(positive_in[200])\n",
    "print(positive_out[200])\n"
   ]
  },
  {
   "cell_type": "code",
   "execution_count": 62,
   "metadata": {
    "colab": {
     "base_uri": "https://localhost:8080/",
     "height": 386
    },
    "colab_type": "code",
    "id": "BbKe99TWARdK",
    "outputId": "1d81d252-aa93-47ec-ddf9-88ed85f9a29e"
   },
   "outputs": [
    {
     "name": "stdout",
     "output_type": "stream",
     "text": [
      "Model: \"model_3\"\n",
      "__________________________________________________________________________________________________\n",
      "Layer (type)                    Output Shape         Param #     Connected to                     \n",
      "==================================================================================================\n",
      "input_3 (InputLayer)            [(None, 30)]         0                                            \n",
      "__________________________________________________________________________________________________\n",
      "embedding_3 (Embedding)         (None, 30, 128)      3487744     input_3[0][0]                    \n",
      "__________________________________________________________________________________________________\n",
      "embedding_4 (Embedding)         (None, 30, 128)      3487744     input_3[0][0]                    \n",
      "__________________________________________________________________________________________________\n",
      "lstm_4 (LSTM)                   [(None, 60), (None,  45360       embedding_3[0][0]                \n",
      "__________________________________________________________________________________________________\n",
      "lstm_5 (LSTM)                   [(None, 30, 60), (No 45360       embedding_4[0][0]                \n",
      "                                                                 lstm_4[0][1]                     \n",
      "                                                                 lstm_4[0][2]                     \n",
      "__________________________________________________________________________________________________\n",
      "dense_5 (Dense)                 (None, 30, 27248)    1662128     lstm_5[0][0]                     \n",
      "==================================================================================================\n",
      "Total params: 8,728,336\n",
      "Trainable params: 8,728,336\n",
      "Non-trainable params: 0\n",
      "__________________________________________________________________________________________________\n"
     ]
    }
   ],
   "source": [
    "encoder_inputs = Input(shape=(max_text_len, ), dtype='int32',)\n",
    "encoder_embedding = Embedding(x_voc, embedding_dim,trainable=True)(encoder_inputs)\n",
    "encoder_LSTM = LSTM(hidden_dim, return_state=True)\n",
    "encoder_outputs, state_h, state_c = encoder_LSTM(encoder_embedding)\n",
    "#print(encoder_embedding.shape)\n",
    "\n",
    "units = int(int(encoder_LSTM.trainable_weights[0].shape[1])/4)\n",
    "#print(\"No units: \", units)\n",
    "W = encoder_LSTM.get_weights()[0]\n",
    "W_c = W[:, units * 2: units * 3]\n",
    "#print(W_c.shape)\n",
    "#print(state_c.shape)\n",
    "\n",
    "pos_sentiment_memory = Memory(embedding_dim,alpha)\n",
    "m_bar = pos_sentiment_memory(att_neg,context_attention_neg,encoder_embedding)\n",
    "\n",
    "state_c1 = state_c + m_bar@W_c\n",
    "\n",
    "decoder_embedding = Embedding(x_voc, embedding_dim,trainable=True)(encoder_inputs)\n",
    "decoder_LSTM = LSTM(hidden_dim, return_state=True, return_sequences=True)\n",
    "decoder_outputs, _, _ = decoder_LSTM(decoder_embedding, initial_state=[state_h, state_c])\n",
    "\n",
    "dense_layer = Dense(x_voc, activation='softmax')\n",
    "outputs = dense_layer(decoder_outputs)\n",
    "final_model_1 = Model(encoder_inputs, outputs)\n",
    "\n",
    "final_model_1.summary()"
   ]
  },
  {
   "cell_type": "code",
   "execution_count": 0,
   "metadata": {
    "colab": {},
    "colab_type": "code",
    "id": "yz85CB-XC3Mo"
   },
   "outputs": [],
   "source": [
    "final_model_1.compile(optimizer='adam', loss='sparse_categorical_crossentropy')"
   ]
  },
  {
   "cell_type": "code",
   "execution_count": 64,
   "metadata": {
    "colab": {
     "base_uri": "https://localhost:8080/",
     "height": 1000
    },
    "colab_type": "code",
    "id": "TjivuIJmC8l-",
    "outputId": "63461c1e-4468-4e79-890c-1ed4601a6258"
   },
   "outputs": [
    {
     "name": "stdout",
     "output_type": "stream",
     "text": [
      "Train on 30732 samples\n",
      "Epoch 1/50\n",
      "30732/30732 [==============================] - 28s 897us/sample - loss: 7.6168\n",
      "Epoch 2/50\n",
      "30732/30732 [==============================] - 26s 848us/sample - loss: 6.2206\n",
      "Epoch 3/50\n",
      "30732/30732 [==============================] - 26s 847us/sample - loss: 5.9936\n",
      "Epoch 4/50\n",
      "30732/30732 [==============================] - 26s 850us/sample - loss: 5.8128\n",
      "Epoch 5/50\n",
      "30732/30732 [==============================] - 26s 849us/sample - loss: 5.7254\n",
      "Epoch 6/50\n",
      "30732/30732 [==============================] - 26s 845us/sample - loss: 5.6601\n",
      "Epoch 7/50\n",
      "30732/30732 [==============================] - 26s 841us/sample - loss: 5.5909\n",
      "Epoch 8/50\n",
      "30732/30732 [==============================] - 25s 827us/sample - loss: 5.5087\n",
      "Epoch 9/50\n",
      "30732/30732 [==============================] - 26s 832us/sample - loss: 5.4329\n",
      "Epoch 10/50\n",
      "30732/30732 [==============================] - 25s 826us/sample - loss: 5.3599\n",
      "Epoch 11/50\n",
      "30732/30732 [==============================] - 25s 827us/sample - loss: 5.2885\n",
      "Epoch 12/50\n",
      "30732/30732 [==============================] - 25s 827us/sample - loss: 5.2206\n",
      "Epoch 13/50\n",
      "30732/30732 [==============================] - 26s 831us/sample - loss: 5.1575\n",
      "Epoch 14/50\n",
      "30732/30732 [==============================] - 25s 826us/sample - loss: 5.0972\n",
      "Epoch 15/50\n",
      "30732/30732 [==============================] - 26s 832us/sample - loss: 5.0415\n",
      "Epoch 16/50\n",
      "30732/30732 [==============================] - 26s 833us/sample - loss: 4.9894\n",
      "Epoch 17/50\n",
      "30732/30732 [==============================] - 25s 827us/sample - loss: 4.9388\n",
      "Epoch 18/50\n",
      "30732/30732 [==============================] - 25s 826us/sample - loss: 4.8896\n",
      "Epoch 19/50\n",
      "30732/30732 [==============================] - 25s 828us/sample - loss: 4.8410\n",
      "Epoch 20/50\n",
      "30732/30732 [==============================] - 26s 832us/sample - loss: 4.7939\n",
      "Epoch 21/50\n",
      "30732/30732 [==============================] - 25s 826us/sample - loss: 4.7470\n",
      "Epoch 22/50\n",
      "30732/30732 [==============================] - 25s 828us/sample - loss: 4.7018\n",
      "Epoch 23/50\n",
      "30732/30732 [==============================] - 26s 832us/sample - loss: 4.6595\n",
      "Epoch 24/50\n",
      "30732/30732 [==============================] - 25s 827us/sample - loss: 4.6182\n",
      "Epoch 25/50\n",
      "30732/30732 [==============================] - 25s 826us/sample - loss: 4.5778\n",
      "Epoch 26/50\n",
      "30732/30732 [==============================] - 25s 826us/sample - loss: 4.5384\n",
      "Epoch 27/50\n",
      "30732/30732 [==============================] - 25s 827us/sample - loss: 4.5015\n",
      "Epoch 28/50\n",
      "30732/30732 [==============================] - 25s 828us/sample - loss: 4.4641\n",
      "Epoch 29/50\n",
      "30732/30732 [==============================] - 26s 831us/sample - loss: 4.4290\n",
      "Epoch 30/50\n",
      "30732/30732 [==============================] - 25s 828us/sample - loss: 4.3952\n",
      "Epoch 31/50\n",
      "30732/30732 [==============================] - 25s 828us/sample - loss: 4.3623\n",
      "Epoch 32/50\n",
      "30732/30732 [==============================] - 26s 833us/sample - loss: 4.3309\n",
      "Epoch 33/50\n",
      "30732/30732 [==============================] - 25s 830us/sample - loss: 4.3007\n",
      "Epoch 34/50\n",
      "30732/30732 [==============================] - 25s 828us/sample - loss: 4.2720\n",
      "Epoch 35/50\n",
      "30732/30732 [==============================] - 25s 825us/sample - loss: 4.2436\n",
      "Epoch 36/50\n",
      "30732/30732 [==============================] - 25s 828us/sample - loss: 4.2172\n",
      "Epoch 37/50\n",
      "30732/30732 [==============================] - 26s 831us/sample - loss: 4.1905\n",
      "Epoch 38/50\n",
      "30732/30732 [==============================] - 25s 828us/sample - loss: 4.1658\n",
      "Epoch 39/50\n",
      "30732/30732 [==============================] - 26s 831us/sample - loss: 4.1409\n",
      "Epoch 40/50\n",
      "30732/30732 [==============================] - 25s 829us/sample - loss: 4.1172\n",
      "Epoch 41/50\n",
      "30732/30732 [==============================] - 26s 832us/sample - loss: 4.0954\n",
      "Epoch 42/50\n",
      "30732/30732 [==============================] - 25s 826us/sample - loss: 4.0735\n",
      "Epoch 43/50\n",
      "30732/30732 [==============================] - 25s 826us/sample - loss: 4.0516\n",
      "Epoch 44/50\n",
      "30732/30732 [==============================] - 26s 832us/sample - loss: 4.0305\n",
      "Epoch 45/50\n",
      "30732/30732 [==============================] - 25s 828us/sample - loss: 4.0092\n",
      "Epoch 46/50\n",
      "30732/30732 [==============================] - 25s 827us/sample - loss: 3.9896\n",
      "Epoch 47/50\n",
      "30732/30732 [==============================] - 25s 828us/sample - loss: 3.9703\n",
      "Epoch 48/50\n",
      "30732/30732 [==============================] - 25s 827us/sample - loss: 3.9510\n",
      "Epoch 49/50\n",
      "30732/30732 [==============================] - 25s 825us/sample - loss: 3.9318\n",
      "Epoch 50/50\n",
      "30732/30732 [==============================] - 25s 828us/sample - loss: 3.9126\n"
     ]
    }
   ],
   "source": [
    "final_history_1 = final_model_1.fit((x_neg*context_attention_neg),x_neg, epochs=50 , batch_size=256)"
   ]
  },
  {
   "cell_type": "code",
   "execution_count": 0,
   "metadata": {
    "colab": {},
    "colab_type": "code",
    "id": "L9Hm4Tj3KH3N"
   },
   "outputs": [],
   "source": [
    "!pip install -U -q PyDrive\n",
    "from pydrive.auth import GoogleAuth\n",
    "from pydrive.drive import GoogleDrive \n",
    "from google.colab import auth \n",
    "from oauth2client.client import GoogleCredentials"
   ]
  },
  {
   "cell_type": "code",
   "execution_count": 0,
   "metadata": {
    "colab": {},
    "colab_type": "code",
    "id": "qwpXfVG6KKrv"
   },
   "outputs": [],
   "source": [
    "auth.authenticate_user()\n",
    "gauth = GoogleAuth()\n",
    "gauth.credentials = GoogleCredentials.get_application_default()                       \n",
    "drive = GoogleDrive(gauth)"
   ]
  },
  {
   "cell_type": "code",
   "execution_count": 0,
   "metadata": {
    "colab": {},
    "colab_type": "code",
    "id": "ADsWBlKPDASj"
   },
   "outputs": [],
   "source": [
    "final_model_1.save('Negative_model.h5')\n",
    "model_file = drive.CreateFile({'title' : 'Negative_model.h5'})                       \n",
    "model_file.SetContentFile('Negative_model.h5')                       \n",
    "model_file.Upload()"
   ]
  },
  {
   "cell_type": "code",
   "execution_count": 0,
   "metadata": {
    "colab": {},
    "colab_type": "code",
    "id": "nCFIR6AADKl8"
   },
   "outputs": [],
   "source": [
    "def getSentence_neg(x):\n",
    "  sid = SentimentIntensityAnalyzer()\n",
    "\n",
    "  ans = final_model_1.predict(x)\n",
    "  ans = np.reshape(ans,(ans.shape[1],ans.shape[2]))\n",
    "  b = []\n",
    "\n",
    "  for i in range(max_text_len):\n",
    "      b.append(np.argmax(ans[i,:]))\n",
    "  \n",
    "  predicted = []\n",
    "  for j in (b):\n",
    "      if(j!=0):\n",
    "          predicted.append(x_tokenizer.index_word[j])\n",
    "  sent = ' '.join(predicted)\n",
    "  return sent\n",
    "  #print(sent)\n",
    "  #print(\"Sentiment = \",sid.polarity_scores(sent))"
   ]
  },
  {
   "cell_type": "code",
   "execution_count": 0,
   "metadata": {
    "colab": {},
    "colab_type": "code",
    "id": "SB18Z8fXDT9x"
   },
   "outputs": [],
   "source": [
    "x = abs_data['abs_predicted']\n",
    "x_new = []\n",
    "\n",
    "for i in x:\n",
    "  x_new.append(changeInput(i))\n",
    "\n",
    "positive_in = []\n",
    "positive_out = []\n",
    "\n",
    "for i in range(len(x_new)):\n",
    "  positive_in.append(getText(x_new[i][0]))\n",
    "  positive_out.append(getSentence_neg(x_new[i:i+1][0]))"
   ]
  },
  {
   "cell_type": "code",
   "execution_count": 80,
   "metadata": {
    "colab": {
     "base_uri": "https://localhost:8080/",
     "height": 50
    },
    "colab_type": "code",
    "id": "_ypnZNeqKU05",
    "outputId": "fb95b580-c2ee-44f1-cdb1-1e2e75583f56"
   },
   "outputs": [
    {
     "name": "stdout",
     "output_type": "stream",
     "text": [
      "shares look shares picture of\n",
      "shares look shares at of the the of the the the the the the of\n"
     ]
    }
   ],
   "source": [
    "print(positive_in[20])\n",
    "print(positive_out[20])"
   ]
  },
  {
   "cell_type": "code",
   "execution_count": 0,
   "metadata": {
    "colab": {},
    "colab_type": "code",
    "id": "UopaES6PKipj"
   },
   "outputs": [],
   "source": [
    "df_neg = pd.DataFrame({'original':positive_in,'neg_predicted':positive_out})\n",
    "export_csv = df_neg.to_csv ('Negative_model_output_abs.csv', index = None, header=True)"
   ]
  },
  {
   "cell_type": "code",
   "execution_count": 0,
   "metadata": {
    "colab": {},
    "colab_type": "code",
    "id": "KgTRYgooKy-C"
   },
   "outputs": [],
   "source": [
    "x = ex_data['ex_predicted']\n",
    "x_new = []\n",
    "x_hat = []\n",
    "\n",
    "for i in x:\n",
    "  if(len(i.split())<=30):\n",
    "    x_hat.append(i)\n",
    "\n",
    "for i in x_hat:\n",
    "  x_new.append(changeInput(i))"
   ]
  },
  {
   "cell_type": "code",
   "execution_count": 0,
   "metadata": {
    "colab": {},
    "colab_type": "code",
    "id": "mxY52jXWLIPx"
   },
   "outputs": [],
   "source": [
    "positive_in = []\n",
    "positive_out = []\n",
    "\n",
    "for i in range(len(x_new)):\n",
    "  positive_in.append(getText(x_new[i][0]))\n",
    "  positive_out.append(getSentence_neg(x_new[i:i+1][0]))"
   ]
  },
  {
   "cell_type": "code",
   "execution_count": 0,
   "metadata": {
    "colab": {},
    "colab_type": "code",
    "id": "vzsdsFNXLSJc"
   },
   "outputs": [],
   "source": [
    "df_neg = pd.DataFrame({'original':positive_in,'neg_predicted':positive_out})\n",
    "export_csv = df_neg.to_csv ('Negative_model_output_ex.csv', index = None, header=True)"
   ]
  },
  {
   "cell_type": "code",
   "execution_count": 0,
   "metadata": {
    "colab": {},
    "colab_type": "code",
    "id": "8l1FasctLYKZ"
   },
   "outputs": [],
   "source": []
  }
 ],
 "metadata": {
  "accelerator": "GPU",
  "colab": {
   "name": "Final_Model_DL.ipynb",
   "provenance": []
  },
  "kernelspec": {
   "display_name": "Python 3",
   "language": "python",
   "name": "python3"
  },
  "language_info": {
   "codemirror_mode": {
    "name": "ipython",
    "version": 3
   },
   "file_extension": ".py",
   "mimetype": "text/x-python",
   "name": "python",
   "nbconvert_exporter": "python",
   "pygments_lexer": "ipython3",
   "version": "3.7.1"
  }
 },
 "nbformat": 4,
 "nbformat_minor": 1
}
