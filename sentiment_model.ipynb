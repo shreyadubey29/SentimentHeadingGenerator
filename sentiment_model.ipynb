{
 "cells": [
  {
   "cell_type": "code",
   "execution_count": 262,
   "metadata": {},
   "outputs": [],
   "source": [
    "import numpy as np\n",
    "import pandas as pd \n",
    "import re\n",
    "from keras.preprocessing.text import Tokenizer \n",
    "from keras.preprocessing.sequence import pad_sequences\n",
    "from nltk.corpus import stopwords\n",
    "from tensorflow.keras.layers import Input, LSTM, Embedding, Dense, Concatenate, TimeDistributed, Bidirectional\n",
    "from tensorflow.keras.models import Model\n",
    "from tensorflow.keras.callbacks import EarlyStopping\n",
    "import warnings\n",
    "pd.set_option(\"display.max_colwidth\", 200)\n",
    "warnings.filterwarnings(\"ignore\")\n",
    "import csv\n",
    "import nltk\n"
   ]
  },
  {
   "cell_type": "code",
   "execution_count": 263,
   "metadata": {},
   "outputs": [],
   "source": [
    "# loading the data\n",
    "\n",
    "def load_data(filename):\n",
    "    with open(filename) as csvfile:\n",
    "        readCSV = csv.reader(csvfile, delimiter=',')\n",
    "        textlines = []\n",
    "        sentiments = []\n",
    "        for row in readCSV:\n",
    "            textline = row[0]\n",
    "            sentiment = row[1]\n",
    "\n",
    "            textlines.append(textline)\n",
    "            sentiments.append(sentiment)\n",
    "\n",
    "    textlines.remove(textlines[0])\n",
    "    sentiments.remove(sentiments[0])\n",
    "    \n",
    "    return textlines, sentiments\n",
    "\n",
    "# loading data from news_summary_2.csv\n",
    "textlines, sentiments = load_data('sentiment_data.csv')\n"
   ]
  },
  {
   "cell_type": "code",
   "execution_count": 264,
   "metadata": {},
   "outputs": [],
   "source": [
    "# dictionary for expanding contractions\n",
    "\n",
    "contraction_mapping = {\"ain't\": \"is not\", \"aren't\": \"are not\",\"can't\": \"cannot\", \"'cause\": \"because\", \"could've\": \"could have\", \"couldn't\": \"could not\",\n",
    "                           \"didn't\": \"did not\",  \"doesn't\": \"does not\", \"don't\": \"do not\", \"hadn't\": \"had not\", \"hasn't\": \"has not\", \"haven't\": \"have not\",\n",
    "                           \"he'd\": \"he would\",\"he'll\": \"he will\", \"he's\": \"he is\", \"how'd\": \"how did\", \"how'd'y\": \"how do you\", \"how'll\": \"how will\", \"how's\": \"how is\",\n",
    "                           \"I'd\": \"I would\", \"I'd've\": \"I would have\", \"I'll\": \"I will\", \"I'll've\": \"I will have\",\"I'm\": \"I am\", \"I've\": \"I have\", \"i'd\": \"i would\",\n",
    "                           \"i'd've\": \"i would have\", \"i'll\": \"i will\",  \"i'll've\": \"i will have\",\"i'm\": \"i am\", \"i've\": \"i have\", \"isn't\": \"is not\", \"it'd\": \"it would\",\n",
    "                           \"it'd've\": \"it would have\", \"it'll\": \"it will\", \"it'll've\": \"it will have\",\"it's\": \"it is\", \"let's\": \"let us\", \"ma'am\": \"madam\",\n",
    "                           \"mayn't\": \"may not\", \"might've\": \"might have\",\"mightn't\": \"might not\",\"mightn't've\": \"might not have\", \"must've\": \"must have\",\n",
    "                           \"mustn't\": \"must not\", \"mustn't've\": \"must not have\", \"needn't\": \"need not\", \"needn't've\": \"need not have\",\"o'clock\": \"of the clock\",\n",
    "                           \"oughtn't\": \"ought not\", \"oughtn't've\": \"ought not have\", \"shan't\": \"shall not\", \"sha'n't\": \"shall not\", \"shan't've\": \"shall not have\",\n",
    "                           \"she'd\": \"she would\", \"she'd've\": \"she would have\", \"she'll\": \"she will\", \"she'll've\": \"she will have\", \"she's\": \"she is\",\n",
    "                           \"should've\": \"should have\", \"shouldn't\": \"should not\", \"shouldn't've\": \"should not have\", \"so've\": \"so have\",\"so's\": \"so as\",\n",
    "                           \"this's\": \"this is\",\"that'd\": \"that would\", \"that'd've\": \"that would have\", \"that's\": \"that is\", \"there'd\": \"there would\",\n",
    "                           \"there'd've\": \"there would have\", \"there's\": \"there is\", \"here's\": \"here is\",\"they'd\": \"they would\", \"they'd've\": \"they would have\",\n",
    "                           \"they'll\": \"they will\", \"they'll've\": \"they will have\", \"they're\": \"they are\", \"they've\": \"they have\", \"to've\": \"to have\",\n",
    "                           \"wasn't\": \"was not\", \"we'd\": \"we would\", \"we'd've\": \"we would have\", \"we'll\": \"we will\", \"we'll've\": \"we will have\", \"we're\": \"we are\",\n",
    "                           \"we've\": \"we have\", \"weren't\": \"were not\", \"what'll\": \"what will\", \"what'll've\": \"what will have\", \"what're\": \"what are\",\n",
    "                           \"what's\": \"what is\", \"what've\": \"what have\", \"when's\": \"when is\", \"when've\": \"when have\", \"where'd\": \"where did\", \"where's\": \"where is\",\n",
    "                           \"where've\": \"where have\", \"who'll\": \"who will\", \"who'll've\": \"who will have\", \"who's\": \"who is\", \"who've\": \"who have\",\n",
    "                           \"why's\": \"why is\", \"why've\": \"why have\", \"will've\": \"will have\", \"won't\": \"will not\", \"won't've\": \"will not have\",\n",
    "                           \"would've\": \"would have\", \"wouldn't\": \"would not\", \"wouldn't've\": \"would not have\", \"y'all\": \"you all\",\n",
    "                           \"y'all'd\": \"you all would\",\"y'all'd've\": \"you all would have\",\"y'all're\": \"you all are\",\"y'all've\": \"you all have\",\n",
    "                           \"you'd\": \"you would\", \"you'd've\": \"you would have\", \"you'll\": \"you will\", \"you'll've\": \"you will have\",\n",
    "                           \"you're\": \"you are\", \"you've\": \"you have\"}"
   ]
  },
  {
   "cell_type": "code",
   "execution_count": 265,
   "metadata": {},
   "outputs": [],
   "source": [
    "def text_cleaner(text):\n",
    "    newString = text.lower()\n",
    "    newString = ' '.join([contraction_mapping[t] if t in contraction_mapping else t for t in newString.split(\" \")])  \n",
    "    newString = re.sub(r'[^a-zA-Z0-9_\\s]+', '', newString)\n",
    "    return newString\n",
    "\n",
    "# cleaning the articles\n",
    "cleaned_text = []\n",
    "for t in textlines:\n",
    "    cleaned_text.append(text_cleaner(t))\n",
    "\n"
   ]
  },
  {
   "cell_type": "code",
   "execution_count": 266,
   "metadata": {},
   "outputs": [],
   "source": [
    "data=pd.DataFrame()\n",
    "data['text']=cleaned_text\n",
    "data['sentiments']=sentiments"
   ]
  },
  {
   "cell_type": "code",
   "execution_count": 267,
   "metadata": {},
   "outputs": [
    {
     "name": "stdout",
     "output_type": "stream",
     "text": [
      "0.9994278739797086\n"
     ]
    }
   ],
   "source": [
    "cnt=0\n",
    "for i in data['text']:\n",
    "    if(len(i.split())<=35):\n",
    "        cnt=cnt+1\n",
    "print(cnt/len(data['text']))"
   ]
  },
  {
   "cell_type": "code",
   "execution_count": 268,
   "metadata": {},
   "outputs": [],
   "source": [
    "max_text_len=35"
   ]
  },
  {
   "cell_type": "code",
   "execution_count": 269,
   "metadata": {},
   "outputs": [],
   "source": [
    "text =np.array(data['text'])\n",
    "sentiments=np.array(data['sentiments'])\n",
    "\n",
    "short_text=[]\n",
    "senti=[]\n",
    "\n",
    "for i in range(len(text)):\n",
    "    if(len(cleaned_text[i].split())<=max_text_len):\n",
    "        short_text.append(text[i])\n",
    "        senti.append(sentiments[i])\n",
    "        \n",
    "df=pd.DataFrame({'text':short_text,'sentiments':senti})\n",
    "export_csv = df.to_csv ('classifier_data.csv', index = None, header=True)"
   ]
  },
  {
   "cell_type": "code",
   "execution_count": 89,
   "metadata": {},
   "outputs": [],
   "source": [
    "from sklearn.model_selection import train_test_split\n",
    "train_data,test_data=train_test_split(df,test_size=0.1,random_state=0,shuffle=True)\n",
    "\n",
    "x_tr = train_data['text']\n",
    "x_val = test_data['text']\n",
    "y_tr = train_data['sentiments']\n",
    "y_val = test_data['sentiments']"
   ]
  },
  {
   "cell_type": "code",
   "execution_count": 90,
   "metadata": {},
   "outputs": [],
   "source": [
    "# saving the x_tr for training\n",
    "#export_csv = train_data.to_csv ('train_data.csv', index = None, header=True)"
   ]
  },
  {
   "cell_type": "code",
   "execution_count": 91,
   "metadata": {},
   "outputs": [
    {
     "name": "stdout",
     "output_type": "stream",
     "text": [
      "% of rare words in vocabulary: 36.82070493638212\n",
      "Total Coverage of rare words: 1.4418483997352274\n"
     ]
    }
   ],
   "source": [
    "# Building tokenizer to convert word sequence into integer sequence\n",
    "\n",
    "from keras.preprocessing.text import Tokenizer \n",
    "from keras.preprocessing.sequence import pad_sequences\n",
    "\n",
    "#prepare a tokenizer for reviews on training data\n",
    "x_tokenizer = Tokenizer() \n",
    "x_tokenizer.fit_on_texts(list(x_tr))\n",
    "\n",
    "# Analysing the number of rare words in the vocabulary (rule: any word that appears 3 or leass times is rare)\n",
    "\n",
    "thresh=2\n",
    "\n",
    "cnt=0\n",
    "tot_cnt=0\n",
    "freq=0\n",
    "tot_freq=0\n",
    "\n",
    "for key,value in x_tokenizer.word_counts.items():\n",
    "    tot_cnt=tot_cnt+1\n",
    "    tot_freq=tot_freq+value\n",
    "    if(value<thresh):\n",
    "        cnt=cnt+1\n",
    "        freq=freq+value\n",
    "    \n",
    "print(\"% of rare words in vocabulary:\",(cnt/tot_cnt)*100)\n",
    "print(\"Total Coverage of rare words:\",(freq/tot_freq)*100)\n",
    "\n",
    "#prepare a tokenizer for articles on training data\n",
    "x_tokenizer = Tokenizer(num_words=tot_cnt-cnt) \n",
    "x_tokenizer.fit_on_texts(list(x_tr))\n",
    "\n",
    "#convert text sequences into integer sequences\n",
    "x_tr_seq    =   x_tokenizer.texts_to_sequences(x_tr) \n",
    "x_val_seq   =   x_tokenizer.texts_to_sequences(x_val)\n",
    "\n",
    "#padding zero upto maximum length\n",
    "x_tr    =   pad_sequences(x_tr_seq,  maxlen=max_text_len, padding='post')\n",
    "x_val   =   pad_sequences(x_val_seq, maxlen=max_text_len, padding='post')\n",
    "\n",
    "#size of vocabulary ( +1 for padding token)\n",
    "x_voc   =  x_tokenizer.num_words + 1"
   ]
  },
  {
   "cell_type": "code",
   "execution_count": 92,
   "metadata": {},
   "outputs": [],
   "source": [
    "import tensorflow as tf\n",
    "class Attention(Model):\n",
    "    def __init__(self, units):\n",
    "        super(Attention, self).__init__()\n",
    "        self.W1 = Dense(units)\n",
    "        self.W2 = Dense(units)\n",
    "        self.V = Dense(1)\n",
    " \n",
    "    def call(self, features, hidden):\n",
    "        hidden_with_time_axis = tf.expand_dims(hidden, 1)\n",
    "        score = tf.nn.tanh(self.W1(features) + self.W2(hidden_with_time_axis))\n",
    "        attention_weights = tf.nn.softmax(self.V(score), axis=1)\n",
    "        context_vector = attention_weights * features\n",
    "        context_vector = tf.reduce_sum(context_vector, axis=1)\n",
    " \n",
    "        return context_vector, attention_weights"
   ]
  },
  {
   "cell_type": "code",
   "execution_count": 93,
   "metadata": {},
   "outputs": [],
   "source": [
    "sequence_input = Input(shape=(max_text_len,))"
   ]
  },
  {
   "cell_type": "code",
   "execution_count": 94,
   "metadata": {},
   "outputs": [],
   "source": [
    "embed_seq = Embedding(x_voc, 100, input_length=max_text_len)(sequence_input)"
   ]
  },
  {
   "cell_type": "code",
   "execution_count": 95,
   "metadata": {},
   "outputs": [],
   "source": [
    "import os\n",
    "rnn_cell_size = 128\n",
    "lstm = Bidirectional(LSTM(rnn_cell_size,dropout=0.3,return_sequences=True,return_state=True,\n",
    "                          recurrent_activation='relu',recurrent_initializer='glorot_uniform'))(embed_seq)\n",
    "lstm, forward_h, forward_c, backward_h, backward_c = Bidirectional \\\n",
    "    (LSTM(rnn_cell_size,dropout=0.2,return_sequences=True,return_state=True,\n",
    "      recurrent_activation='relu',recurrent_initializer='glorot_uniform'))(lstm)"
   ]
  },
  {
   "cell_type": "code",
   "execution_count": 99,
   "metadata": {},
   "outputs": [
    {
     "name": "stdout",
     "output_type": "stream",
     "text": [
      "__________________________________________________________________________________________________\n",
      "Layer (type)                    Output Shape         Param #     Connected to                     \n",
      "==================================================================================================\n",
      "input_2 (InputLayer)            (None, 35)           0                                            \n",
      "__________________________________________________________________________________________________\n",
      "embedding_1 (Embedding)         (None, 35, 100)      2765900     input_2[0][0]                    \n",
      "__________________________________________________________________________________________________\n",
      "bidirectional_2 (Bidirectional) [(None, 35, 256), (N 234496      embedding_1[0][0]                \n",
      "__________________________________________________________________________________________________\n",
      "bidirectional_3 (Bidirectional) [(None, 35, 256), (N 394240      bidirectional_2[0][0]            \n",
      "                                                                 bidirectional_2[0][1]            \n",
      "                                                                 bidirectional_2[0][2]            \n",
      "                                                                 bidirectional_2[0][3]            \n",
      "                                                                 bidirectional_2[0][4]            \n",
      "__________________________________________________________________________________________________\n",
      "concatenate_6 (Concatenate)     (None, 256)          0           bidirectional_3[0][1]            \n",
      "                                                                 bidirectional_3[0][3]            \n",
      "__________________________________________________________________________________________________\n",
      "attention_3 (Attention)         [(None, 256), (None, 51501       bidirectional_3[0][0]            \n",
      "                                                                 concatenate_6[0][0]              \n",
      "__________________________________________________________________________________________________\n",
      "dense_15 (Dense)                (None, 1)            257         attention_3[0][0]                \n",
      "==================================================================================================\n",
      "Total params: 3,446,394\n",
      "Trainable params: 3,446,394\n",
      "Non-trainable params: 0\n",
      "__________________________________________________________________________________________________\n",
      "None\n"
     ]
    }
   ],
   "source": [
    "state_h = Concatenate()([forward_h, backward_h])\n",
    "state_c = Concatenate()([forward_c, backward_c])\n",
    "\n",
    "attention = Attention(100)\n",
    "\n",
    "context_vector, attention_weights = attention(lstm, state_h)\n",
    " \n",
    "output = Dense(1, activation='sigmoid')(context_vector)\n",
    " \n",
    "model = Model(inputs=sequence_input, outputs=[output,attention_weights])\n",
    "#model = Model(inputs=sequence_input, outputs = output)\n",
    " \n",
    "# summarize layers\n",
    "print(model.summary())"
   ]
  },
  {
   "cell_type": "code",
   "execution_count": 97,
   "metadata": {},
   "outputs": [],
   "source": [
    "model.compile(optimizer='adam',\n",
    "              loss='binary_crossentropy',\n",
    "              metrics=['accuracy'])\n",
    " \n",
    "es = EarlyStopping(monitor='val_loss', min_delta=0, patience=1, verbose=0, mode='auto')"
   ]
  },
  {
   "cell_type": "code",
   "execution_count": 98,
   "metadata": {},
   "outputs": [
    {
     "name": "stdout",
     "output_type": "stream",
     "text": [
      "Train on 33015 samples, validate on 14150 samples\n",
      "Epoch 1/10\n",
      "33015/33015 [==============================] - 138s 4ms/sample - loss: 0.6390 - acc: 0.6721 - val_loss: 0.6216 - val_acc: 0.6711\n",
      "Epoch 2/10\n",
      "33015/33015 [==============================] - 138s 4ms/sample - loss: 0.5739 - acc: 0.6981 - val_loss: 0.6160 - val_acc: 0.6771\n",
      "Epoch 3/10\n",
      "33015/33015 [==============================] - 134s 4ms/sample - loss: 0.4895 - acc: 0.7611 - val_loss: 0.6664 - val_acc: 0.6624\n"
     ]
    }
   ],
   "source": [
    "#history = model.fit(x_tr,[y_tr,out[1]],epochs=10,batch_size=200,validation_split=.3, verbose=1, callbacks=[es])\n",
    "\n",
    "history = model.fit(x_tr,y_tr,epochs=10,batch_size=200,validation_split=.3, verbose=1, callbacks=[es])"
   ]
  },
  {
   "cell_type": "code",
   "execution_count": 144,
   "metadata": {},
   "outputs": [],
   "source": [
    "out = model.predict(x_tr)"
   ]
  },
  {
   "cell_type": "code",
   "execution_count": 145,
   "metadata": {},
   "outputs": [
    {
     "data": {
      "text/plain": [
       "(47165, 35, 1)"
      ]
     },
     "execution_count": 145,
     "metadata": {},
     "output_type": "execute_result"
    }
   ],
   "source": [
    "out[1].shape\n"
   ]
  },
  {
   "cell_type": "code",
   "execution_count": 146,
   "metadata": {},
   "outputs": [
    {
     "data": {
      "text/plain": [
       "(47165, 35)"
      ]
     },
     "execution_count": 146,
     "metadata": {},
     "output_type": "execute_result"
    }
   ],
   "source": [
    "x_tr.shape"
   ]
  },
  {
   "cell_type": "code",
   "execution_count": 147,
   "metadata": {},
   "outputs": [],
   "source": [
    "y_tr = list(y_tr)"
   ]
  },
  {
   "cell_type": "code",
   "execution_count": 148,
   "metadata": {},
   "outputs": [],
   "source": [
    "for i in range (len(y_tr)):\n",
    "    y_tr[i] = float(y_tr[i])"
   ]
  },
  {
   "cell_type": "code",
   "execution_count": 149,
   "metadata": {},
   "outputs": [
    {
     "name": "stdout",
     "output_type": "stream",
     "text": [
      "no. of positives =  15479.0\n",
      "no. of negatives =  31686.0\n",
      "shape of x_tr =  (47165, 35)\n"
     ]
    }
   ],
   "source": [
    "print(\"no. of positives = \",np.sum(y_tr))\n",
    "print(\"no. of negatives = \",len(y_tr)-np.sum(y_tr))\n",
    "print(\"shape of x_tr = \",x_tr.shape)"
   ]
  },
  {
   "cell_type": "code",
   "execution_count": 150,
   "metadata": {},
   "outputs": [
    {
     "name": "stdout",
     "output_type": "stream",
     "text": [
      "shape of attention_weights =  (47165, 35, 1)\n",
      "shape of attention_weights =  (47165, 35)\n"
     ]
    }
   ],
   "source": [
    "trained_att = out[1]\n",
    "print(\"shape of attention_weights = \", trained_att.shape)\n",
    "new_trained_att = np.reshape(trained_att,(trained_att.shape[0],trained_att.shape[1]))\n",
    "print(\"shape of attention_weights = \", new_trained_att.shape)\n",
    "\n",
    "for i in range(new_trained_att.shape[0]):\n",
    "    avg = np.mean(new_trained_att[i,:])\n",
    "    for j in range(new_trained_att.shape[1]):\n",
    "        if(new_trained_att[i,j]>=avg):\n",
    "            new_trained_att[i,j]=1\n",
    "        else:\n",
    "            new_trained_att[i,j]=0"
   ]
  },
  {
   "cell_type": "code",
   "execution_count": 151,
   "metadata": {},
   "outputs": [],
   "source": [
    "x_pos = np.empty((15479,35))\n",
    "x_neg = np.empty((31686,35))\n",
    "\n",
    "att_pos = np.empty((15479,35))\n",
    "att_neg = np.empty((31686,35))\n",
    "\n",
    "p,n = 0,0\n",
    "\n",
    "for i in range(len(y_tr)):\n",
    "    if(y_tr[i]==1):\n",
    "        x_pos[p,:] = x_tr[i,:]\n",
    "        att_pos[p,:] = new_trained_att[i,:]\n",
    "        p = p+1\n",
    "    elif(y_tr[i]==0):\n",
    "        x_neg[n,:] = x_tr[i,:]\n",
    "        att_neg[n,:] = new_trained_att[i,:]\n",
    "        n = n+1\n"
   ]
  },
  {
   "cell_type": "code",
   "execution_count": 152,
   "metadata": {},
   "outputs": [],
   "source": [
    "np.save('x_pos',x_pos)\n",
    "np.save('x_neg',x_neg)\n",
    "np.save('attn_pos',att_pos)\n",
    "np.save('attn_neg',att_neg)"
   ]
  },
  {
   "cell_type": "code",
   "execution_count": 153,
   "metadata": {},
   "outputs": [],
   "source": [
    "np.save('attention_weights.npy',out[1])"
   ]
  },
  {
   "cell_type": "code",
   "execution_count": 156,
   "metadata": {},
   "outputs": [],
   "source": [
    "s_pos = np.sum(x_pos*att_pos,axis=0)\n",
    "context_attention = 1-att_pos\n",
    "s_cont = np.sum(x_pos*context_attention,axis=0)\n",
    "\n",
    "alpha = 100\n",
    "e = 35"
   ]
  },
  {
   "cell_type": "code",
   "execution_count": 157,
   "metadata": {},
   "outputs": [],
   "source": [
    "def softmax(x):\n",
    "    e_x = np.exp(x - np.max(x))\n",
    "    return e_x / e_x.sum()\n",
    "\n",
    "class Positive_Memory(Model):\n",
    "    def __init__(self, e, alpha):\n",
    "        super(Positive_Memory, self).__init__()\n",
    "        self.M_pos = np.ones((e,alpha))\n",
    " \n",
    "    def call(self, s_pos, s_cont):\n",
    "        w = softmax((s_pos.T)@self.M_pos)\n",
    "        self.M_pos = self.M_pos + np.outer(s_pos,w)\n",
    "        u = softmax((s_cont.T)@self.M_pos)\n",
    "        m_bar = np.sum(u*self.M_pos)\n",
    "        \n",
    "        return m_bar"
   ]
  },
  {
   "cell_type": "code",
   "execution_count": 158,
   "metadata": {},
   "outputs": [
    {
     "name": "stdout",
     "output_type": "stream",
     "text": [
      "__________________________________________________________________________________________________\n",
      "Layer (type)                    Output Shape         Param #     Connected to                     \n",
      "==================================================================================================\n",
      "input_3 (InputLayer)            (None, 35)           0                                            \n",
      "__________________________________________________________________________________________________\n",
      "embedding_2 (Embedding)         (None, 35, 100)      2765900     input_3[0][0]                    \n",
      "__________________________________________________________________________________________________\n",
      "embedding_3 (Embedding)         (None, 35, 100)      2765900     input_3[0][0]                    \n",
      "__________________________________________________________________________________________________\n",
      "lstm_4 (LSTM)                   [(None, 20), (None,  9680        embedding_2[0][0]                \n",
      "__________________________________________________________________________________________________\n",
      "lstm_5 (LSTM)                   [(None, 35, 20), (No 9680        embedding_3[0][0]                \n",
      "                                                                 lstm_4[0][1]                     \n",
      "                                                                 lstm_4[0][2]                     \n",
      "__________________________________________________________________________________________________\n",
      "time_distributed (TimeDistribut (None, 35, 27659)    580839      lstm_5[0][0]                     \n",
      "==================================================================================================\n",
      "Total params: 6,131,999\n",
      "Trainable params: 6,131,999\n",
      "Non-trainable params: 0\n",
      "__________________________________________________________________________________________________\n"
     ]
    }
   ],
   "source": [
    "hidden_dim = 20\n",
    "embedding_dim = 100\n",
    "\n",
    "encoder_inputs = Input(shape=(max_text_len, ), dtype='int32',)\n",
    "encoder_embedding = Embedding(x_voc, embedding_dim,trainable=True)(encoder_inputs)\n",
    "encoder_LSTM = LSTM(hidden_dim, return_state=True)\n",
    "encoder_outputs, state_h, state_c = encoder_LSTM(encoder_embedding)\n",
    "\n",
    "pos_sentiment_memory = Positive_Memory(e,alpha)\n",
    "m_bar = pos_sentiment_memory(s_pos,s_cont)\n",
    "state_c1 = state_c + m_bar\n",
    "\n",
    "decoder_embedding = Embedding(x_voc, embedding_dim,trainable=True)(encoder_inputs)\n",
    "decoder_LSTM = LSTM(hidden_dim, return_state=True, return_sequences=True)\n",
    "decoder_outputs, _, _ = decoder_LSTM(decoder_embedding, initial_state=[state_h, state_c])\n",
    "\n",
    "dense_layer = Dense(x_voc, activation='softmax')\n",
    "#outputs = TimeDistributed(Dense(x_voc, activation='softmax'))(decoder_outputs)\n",
    "outputs = dense_layer(decoder_outputs)\n",
    "final_model = Model(encoder_inputs, outputs)\n",
    "\n",
    "final_model.summary()"
   ]
  },
  {
   "cell_type": "code",
   "execution_count": 159,
   "metadata": {},
   "outputs": [],
   "source": [
    "final_model.compile(optimizer='adam', loss='sparse_categorical_crossentropy')"
   ]
  },
  {
   "cell_type": "code",
   "execution_count": 222,
   "metadata": {},
   "outputs": [
    {
     "name": "stdout",
     "output_type": "stream",
     "text": [
      "Epoch 1/50\n",
      "15479/15479 [==============================] - 586s 38ms/sample - loss: 5.2647\n",
      "Epoch 2/50\n",
      "15479/15479 [==============================] - 566s 37ms/sample - loss: 5.1666\n",
      "Epoch 3/50\n",
      "15479/15479 [==============================] - 571s 37ms/sample - loss: 5.1085\n",
      "Epoch 4/50\n",
      "15479/15479 [==============================] - 563s 36ms/sample - loss: 5.0696\n",
      "Epoch 5/50\n",
      "15479/15479 [==============================] - 550s 36ms/sample - loss: 5.0418\n",
      "Epoch 6/50\n",
      "15479/15479 [==============================] - 571s 37ms/sample - loss: 5.0227\n",
      "Epoch 7/50\n",
      "15479/15479 [==============================] - 574s 37ms/sample - loss: 5.0052\n",
      "Epoch 8/50\n",
      "15479/15479 [==============================] - 574s 37ms/sample - loss: 4.9913\n",
      "Epoch 9/50\n",
      "15479/15479 [==============================] - 573s 37ms/sample - loss: 4.9794\n",
      "Epoch 10/50\n",
      "15479/15479 [==============================] - 575s 37ms/sample - loss: 4.9674\n",
      "Epoch 11/50\n",
      "15479/15479 [==============================] - 574s 37ms/sample - loss: 4.9558\n",
      "Epoch 12/50\n",
      "15479/15479 [==============================] - 576s 37ms/sample - loss: 4.9445\n",
      "Epoch 13/50\n",
      "15479/15479 [==============================] - 577s 37ms/sample - loss: 4.9333\n",
      "Epoch 14/50\n",
      "15479/15479 [==============================] - 574s 37ms/sample - loss: 4.9217\n",
      "Epoch 15/50\n",
      "15479/15479 [==============================] - 574s 37ms/sample - loss: 4.9108\n",
      "Epoch 16/50\n",
      "15479/15479 [==============================] - 563s 36ms/sample - loss: 4.9003\n",
      "Epoch 17/50\n",
      "15479/15479 [==============================] - 544s 35ms/sample - loss: 4.8897\n",
      "Epoch 18/50\n",
      "15479/15479 [==============================] - 546s 35ms/sample - loss: 4.8791\n",
      "Epoch 19/50\n",
      "15479/15479 [==============================] - 547s 35ms/sample - loss: 4.8700\n",
      "Epoch 20/50\n",
      "15479/15479 [==============================] - 544s 35ms/sample - loss: 4.8579\n",
      "Epoch 21/50\n",
      "15479/15479 [==============================] - 545s 35ms/sample - loss: 4.8468\n",
      "Epoch 22/50\n",
      "15479/15479 [==============================] - 544s 35ms/sample - loss: 4.8301\n",
      "Epoch 23/50\n",
      "15479/15479 [==============================] - 544s 35ms/sample - loss: 4.8123\n",
      "Epoch 24/50\n",
      "15479/15479 [==============================] - 543s 35ms/sample - loss: 4.7960\n",
      "Epoch 25/50\n",
      "15479/15479 [==============================] - 544s 35ms/sample - loss: 4.7802\n",
      "Epoch 26/50\n",
      "15479/15479 [==============================] - 548s 35ms/sample - loss: 4.7660\n",
      "Epoch 27/50\n",
      "15479/15479 [==============================] - 547s 35ms/sample - loss: 4.7514\n",
      "Epoch 28/50\n",
      "15479/15479 [==============================] - 544s 35ms/sample - loss: 4.7367\n",
      "Epoch 29/50\n",
      "15479/15479 [==============================] - 546s 35ms/sample - loss: 4.7233\n",
      "Epoch 30/50\n",
      "15479/15479 [==============================] - 543s 35ms/sample - loss: 4.7089\n",
      "Epoch 31/50\n",
      "15479/15479 [==============================] - 543s 35ms/sample - loss: 4.6942\n",
      "Epoch 32/50\n",
      "15479/15479 [==============================] - 545s 35ms/sample - loss: 4.6802\n",
      "Epoch 33/50\n",
      "15479/15479 [==============================] - 544s 35ms/sample - loss: 4.6663\n",
      "Epoch 34/50\n",
      "15479/15479 [==============================] - 545s 35ms/sample - loss: 4.6530\n",
      "Epoch 35/50\n",
      "15479/15479 [==============================] - 543s 35ms/sample - loss: 4.6403\n",
      "Epoch 36/50\n",
      "15479/15479 [==============================] - 546s 35ms/sample - loss: 4.6282\n",
      "Epoch 37/50\n",
      "15479/15479 [==============================] - 543s 35ms/sample - loss: 4.6163\n",
      "Epoch 38/50\n",
      "15479/15479 [==============================] - 544s 35ms/sample - loss: 4.6043\n",
      "Epoch 39/50\n",
      "15479/15479 [==============================] - 545s 35ms/sample - loss: 4.5938\n",
      "Epoch 40/50\n",
      "15479/15479 [==============================] - 546s 35ms/sample - loss: 4.5830\n",
      "Epoch 41/50\n",
      "15479/15479 [==============================] - 545s 35ms/sample - loss: 4.5704\n",
      "Epoch 42/50\n",
      "15479/15479 [==============================] - 544s 35ms/sample - loss: 4.5576\n",
      "Epoch 43/50\n",
      "15479/15479 [==============================] - 544s 35ms/sample - loss: 4.5457\n",
      "Epoch 44/50\n",
      "15479/15479 [==============================] - 543s 35ms/sample - loss: 4.5345\n",
      "Epoch 45/50\n",
      "15479/15479 [==============================] - 544s 35ms/sample - loss: 4.5231\n",
      "Epoch 46/50\n",
      "15479/15479 [==============================] - 544s 35ms/sample - loss: 4.5099\n",
      "Epoch 47/50\n",
      "15479/15479 [==============================] - 544s 35ms/sample - loss: 4.4980\n",
      "Epoch 48/50\n",
      "15479/15479 [==============================] - 545s 35ms/sample - loss: 4.4868\n",
      "Epoch 49/50\n",
      "15479/15479 [==============================] - 544s 35ms/sample - loss: 4.4747\n",
      "Epoch 50/50\n",
      "15479/15479 [==============================] - 543s 35ms/sample - loss: 4.4631\n"
     ]
    }
   ],
   "source": [
    "final_history = final_model.fit((x_pos*context_attention),x_pos, epochs=50 , batch_size=128) "
   ]
  },
  {
   "cell_type": "code",
   "execution_count": 257,
   "metadata": {},
   "outputs": [
    {
     "data": {
      "image/png": "[encoded data removed]",
      "text/plain": [
       "<Figure size 432x288 with 1 Axes>"
      ]
     },
     "metadata": {
      "needs_background": "light"
     },
     "output_type": "display_data"
    }
   ],
   "source": [
    "from matplotlib import pyplot\n",
    "pyplot.plot(final_history.history['loss'], label='train')\n",
    "pyplot.legend()\n",
    "pyplot.show()"
   ]
  },
  {
   "cell_type": "code",
   "execution_count": 260,
   "metadata": {},
   "outputs": [
    {
     "name": "stdout",
     "output_type": "stream",
     "text": [
      "political and military leaders have concluded that it would be better for israel not to overthrow the hamas government in the gaza strip officials who took part in\n"
     ]
    }
   ],
   "source": [
    "sentence = []\n",
    "for j in (x_pos[10]):\n",
    "    if(j!=0):\n",
    "        sentence.append(x_tokenizer.index_word[j])\n",
    "        \n",
    "print(' '.join(sentence))"
   ]
  },
  {
   "cell_type": "code",
   "execution_count": 240,
   "metadata": {},
   "outputs": [
    {
     "name": "stdout",
     "output_type": "stream",
     "text": [
      "(35,)\n"
     ]
    }
   ],
   "source": [
    "a = x_pos[10]\n",
    "print(a.shape)"
   ]
  },
  {
   "cell_type": "code",
   "execution_count": 248,
   "metadata": {},
   "outputs": [],
   "source": [
    "ans = final_model.predict(x_pos[9:10])"
   ]
  },
  {
   "cell_type": "code",
   "execution_count": 249,
   "metadata": {},
   "outputs": [
    {
     "data": {
      "text/plain": [
       "(1, 35, 27659)"
      ]
     },
     "execution_count": 249,
     "metadata": {},
     "output_type": "execute_result"
    }
   ],
   "source": [
    "ans.shape"
   ]
  },
  {
   "cell_type": "code",
   "execution_count": 250,
   "metadata": {},
   "outputs": [
    {
     "name": "stdout",
     "output_type": "stream",
     "text": [
      "(35, 27659)\n"
     ]
    }
   ],
   "source": [
    "print(a.shape)"
   ]
  },
  {
   "cell_type": "code",
   "execution_count": 251,
   "metadata": {},
   "outputs": [
    {
     "name": "stdout",
     "output_type": "stream",
     "text": [
      "[[[3.9737389e-04 8.4439462e-01 5.5298511e-02 ... 1.3321880e-10\n",
      "   9.7233197e-08 1.4851062e-10]\n",
      "  [4.1279194e-04 4.3840893e-03 5.2244011e-03 ... 1.6885822e-07\n",
      "   7.5822859e-06 1.8363259e-07]\n",
      "  [3.3615634e-02 1.4062191e-04 1.3812333e-03 ... 1.2417185e-08\n",
      "   1.3803078e-06 1.3351100e-08]\n",
      "  ...\n",
      "  [9.9821341e-01 3.0102306e-05 1.0714332e-04 ... 2.1064203e-12\n",
      "   1.0191362e-09 2.3513565e-12]\n",
      "  [9.9821556e-01 3.0124571e-05 1.0720467e-04 ... 2.0982044e-12\n",
      "   1.0161958e-09 2.3422570e-12]\n",
      "  [9.9821717e-01 3.0139130e-05 1.0724473e-04 ... 2.0929998e-12\n",
      "   1.0143267e-09 2.3364869e-12]]]\n",
      "(1, 35, 27659)\n"
     ]
    }
   ],
   "source": [
    "print(ans)\n",
    "print(ans.shape)\n",
    "a = ans[0,:,:]"
   ]
  },
  {
   "cell_type": "code",
   "execution_count": 252,
   "metadata": {},
   "outputs": [
    {
     "name": "stdout",
     "output_type": "stream",
     "text": [
      "(35, 27659)\n"
     ]
    }
   ],
   "source": [
    "print(a.shape)\n",
    "\n",
    "b = np.empty((35))\n",
    "\n",
    "#print(a[0,:])\n",
    "\n",
    "for i in range(35):\n",
    "    b[i] = np.argmax(a[i,:])"
   ]
  },
  {
   "cell_type": "code",
   "execution_count": 253,
   "metadata": {},
   "outputs": [
    {
     "data": {
      "text/plain": [
       "array([  1.,   3.,   0.,   5.,   1.,   9.,   4.,   2.,   1.,   3.,   3.,\n",
       "         0.,   1.,   5., 179.,   0.,   6.,   3.,   6.,   4.,   0.,   0.,\n",
       "         0.,   0.,   0.,   0.,   0.,   0.,   0.,   0.,   0.,   0.,   0.,\n",
       "         0.,   0.])"
      ]
     },
     "execution_count": 253,
     "metadata": {},
     "output_type": "execute_result"
    }
   ],
   "source": [
    "b"
   ]
  },
  {
   "cell_type": "code",
   "execution_count": 261,
   "metadata": {},
   "outputs": [
    {
     "name": "stdout",
     "output_type": "stream",
     "text": [
      "the of in the has to a the of of the in them and of and to\n"
     ]
    }
   ],
   "source": [
    "predicted = []\n",
    "for j in (b):\n",
    "    if(j!=0):\n",
    "        predicted.append(x_tokenizer.index_word[j])\n",
    "\n",
    "print(' '.join(predicted))"
   ]
  },
  {
   "cell_type": "code",
   "execution_count": null,
   "metadata": {},
   "outputs": [],
   "source": []
  }
 ],
 "metadata": {
  "kernelspec": {
   "display_name": "Python 3",
   "language": "python",
   "name": "python3"
  },
  "language_info": {
   "codemirror_mode": {
    "name": "ipython",
    "version": 3
   },
   "file_extension": ".py",
   "mimetype": "text/x-python",
   "name": "python",
   "nbconvert_exporter": "python",
   "pygments_lexer": "ipython3",
   "version": "3.7.1"
  }
 },
 "nbformat": 4,
 "nbformat_minor": 2
}
